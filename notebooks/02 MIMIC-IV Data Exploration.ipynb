{
 "cells": [
  {
   "cell_type": "markdown",
   "metadata": {},
   "source": [
    "#### Explore relationships between baseline health history in MIMIC-IV and prognosis after ED attendance."
   ]
  },
  {
   "cell_type": "code",
   "execution_count": null,
   "metadata": {},
   "outputs": [],
   "source": [
    "%pip install tableone"
   ]
  },
  {
   "cell_type": "code",
   "execution_count": 1,
   "metadata": {},
   "outputs": [],
   "source": [
    "import pandas as pd\n",
    "import seaborn as sns\n",
    "import matplotlib.pyplot as plt\n",
    "import matplotlib.ticker as mtick\n",
    "from matplotlib.patches import Patch\n",
    "from matplotlib.dates import DateFormatter\n",
    "from datetime import timedelta, datetime\n",
    "from tqdm import tqdm\n",
    "import numpy as np\n",
    "from scipy import stats, special\n",
    "from tableone import TableOne\n",
    "\n",
    "import os\n",
    "import json\n",
    "import pprint\n",
    "import missingno as msno\n",
    "from statannotations.Annotator import Annotator\n",
    "import warnings\n",
    "\n",
    "pd.set_option('display.max_rows', None)"
   ]
  },
  {
   "cell_type": "markdown",
   "metadata": {},
   "source": [
    "#### Test time-series measurement differences"
   ]
  },
  {
   "cell_type": "code",
   "execution_count": 2,
   "metadata": {},
   "outputs": [],
   "source": [
    "ts_data = pd.read_csv('../outputs/ext_data/events_ts.csv')"
   ]
  },
  {
   "cell_type": "code",
   "execution_count": 3,
   "metadata": {},
   "outputs": [
    {
     "data": {
      "text/plain": [
       "count    131243.000000\n",
       "mean         20.606821\n",
       "std          64.014104\n",
       "min           0.000000\n",
       "25%           2.000000\n",
       "50%           6.000000\n",
       "75%          13.000000\n",
       "max        1047.000000\n",
       "Name: value, dtype: float64"
      ]
     },
     "execution_count": 3,
     "metadata": {},
     "output_type": "execute_result"
    }
   ],
   "source": [
    "ts_data[ts_data.label=='h'].value.describe()"
   ]
  },
  {
   "cell_type": "code",
   "execution_count": 3,
   "metadata": {},
   "outputs": [
    {
     "data": {
      "text/plain": [
       "((6345992, 7), 36011)"
      ]
     },
     "execution_count": 3,
     "metadata": {},
     "output_type": "execute_result"
    }
   ],
   "source": [
    "ts_data.shape, ts_data.subject_id.nunique()"
   ]
  },
  {
   "cell_type": "code",
   "execution_count": 46,
   "metadata": {},
   "outputs": [
    {
     "data": {
      "text/plain": [
       "array(['alanine_aminotransferase_(alt)', 'albumin',\n",
       "       'alkaline_phosphatase', 'anion_gap', 'bicarbonate',\n",
       "       'bilirubin_total', 'chloride', 'creatinine', 'sodium',\n",
       "       'urea_nitrogen', 'basophils', 'eosinophils', 'hematocrit',\n",
       "       'hemoglobin', 'lymphocytes', 'mch', 'mchc', 'mcv', 'monocytes',\n",
       "       'neutrophils', 'platelet_count', 'rdw', 'red_blood_cells',\n",
       "       'white_blood_cells', 'pt', 'ptt', 'ph', 'specific_gravity',\n",
       "       'calcium_total', 'magnesium', 'phosphate', 'potassium',\n",
       "       'asparate_aminotransferase_(ast)', 'lactate_dehydrogenase_(ld)',\n",
       "       'rdw-sd', 'rbc', 'wbc', 'absolute_lymphocyte_count',\n",
       "       'absolute_basophil_count', 'absolute_eosinophil_count',\n",
       "       'absolute_monocyte_count', 'absolute_neutrophil_count',\n",
       "       'immature_granulocytes', 'lactate', 'base_excess',\n",
       "       'calculated_total_co2', 'pco2', 'po2', 'glucose',\n",
       "       'Diastolic blood pressure', 'Temperature',\n",
       "       'Systolic blood pressure', 'Oxygen saturation', 'Respiratory rate',\n",
       "       'Heart rate'], dtype=object)"
      ]
     },
     "execution_count": 46,
     "metadata": {},
     "output_type": "execute_result"
    }
   ],
   "source": [
    "ts_data.label.unique()"
   ]
  },
  {
   "cell_type": "code",
   "execution_count": 47,
   "metadata": {},
   "outputs": [
    {
     "data": {
      "text/plain": [
       "Index(['subject_id', 'charttime', 'itemid', 'label', 'value', 'valueuom',\n",
       "       'linksto'],\n",
       "      dtype='object')"
      ]
     },
     "execution_count": 47,
     "metadata": {},
     "output_type": "execute_result"
    }
   ],
   "source": [
    "ts_data.columns"
   ]
  },
  {
   "cell_type": "code",
   "execution_count": 58,
   "metadata": {},
   "outputs": [
    {
     "data": {
      "text/plain": [
       "<Axes: >"
      ]
     },
     "execution_count": 58,
     "metadata": {},
     "output_type": "execute_result"
    },
    {
     "data": {
      "image/png": "[encoded data removed]",
      "text/plain": [
       "<Figure size 640x480 with 1 Axes>"
      ]
     },
     "metadata": {},
     "output_type": "display_data"
    }
   ],
   "source": [
    "ts_data[ts_data.label=='base_excess']['value'].hist()"
   ]
  },
  {
   "cell_type": "markdown",
   "metadata": {},
   "source": [
    "##### Load linked health data and discharge summaries"
   ]
  },
  {
   "cell_type": "code",
   "execution_count": null,
   "metadata": {},
   "outputs": [],
   "source": [
    "demo_data = pd.read_csv('../outputs/linked_data/linked_demographics.csv')\n",
    "notes_data = pd.read_csv('../outputs/linked_data/linked_notes.csv')"
   ]
  },
  {
   "cell_type": "code",
   "execution_count": null,
   "metadata": {},
   "outputs": [],
   "source": [
    "import pprint\n",
    "pp = pprint.PrettyPrinter(indent=2)\n",
    "print('Discharge summary (original)')\n",
    "pp.pprint(notes_data.iloc[0].target)\n"
   ]
  },
  {
   "cell_type": "code",
   "execution_count": null,
   "metadata": {},
   "outputs": [],
   "source": [
    "print(demo_data.hadm_id.nunique(), demo_data.subject_id.nunique())\n",
    "print(notes_data.hadm_id.nunique(), notes_data.subject_id.nunique())"
   ]
  },
  {
   "cell_type": "markdown",
   "metadata": {},
   "source": [
    "##### Filter ED patients with history of previous inpatient episodes"
   ]
  },
  {
   "cell_type": "code",
   "execution_count": null,
   "metadata": {},
   "outputs": [],
   "source": [
    "notes_grouped = notes_data.groupby('subject_id').agg({'hadm_id': 'nunique', 'input_tokens': 'sum', 'target_tokens': 'sum'}).reset_index()\n",
    "notes_grouped = notes_grouped.rename(columns={'hadm_id': 'num_summaries', 'input_tokens': 'num_input_tokens', 'target_tokens': 'num_target_tokens'})\n",
    "notes_grouped[['num_summaries', 'num_input_tokens', 'num_target_tokens']] = notes_grouped[['num_summaries', 'num_input_tokens', 'num_target_tokens']].astype(np.int32)"
   ]
  },
  {
   "cell_type": "code",
   "execution_count": null,
   "metadata": {},
   "outputs": [],
   "source": [
    "ed_pts = demo_data[demo_data['subject_id'].isin(notes_data['subject_id'])]\n",
    "ed_pts = ed_pts.merge(notes_grouped, on='subject_id', how='left')\n",
    "print(ed_pts.hadm_id.nunique(), ed_pts.subject_id.nunique())"
   ]
  },
  {
   "cell_type": "code",
   "execution_count": null,
   "metadata": {},
   "outputs": [],
   "source": [
    "print(ed_pts.shape)\n",
    "print('Unique patients:', ed_pts.subject_id.nunique())\n",
    "print('Age distribution:', ed_pts.anchor_age.describe())\n",
    "print('Gender distribution:', ed_pts.gender.value_counts())\n",
    "print('-------------------------------')\n",
    "print('Health outcomes')\n",
    "print(ed_pts.in_hosp_death.value_counts(normalize=True))\n",
    "print(ed_pts.ext_stay_7.value_counts(normalize=True))\n",
    "print(ed_pts.non_home_discharge.value_counts(normalize=True))\n",
    "print(ed_pts.icu_admission.value_counts(normalize=True))\n",
    "print('-------------------------------')\n",
    "print('Comorbidity history')\n",
    "print(ed_pts.is_multimorbid.value_counts(normalize=True))\n",
    "print(ed_pts.is_complex_multimorbid.value_counts(normalize=True))\n",
    "print(ed_pts.phys_men_multimorbidity.value_counts(normalize=True))"
   ]
  },
  {
   "cell_type": "markdown",
   "metadata": {},
   "source": [
    "##### Prepare sensitive variables"
   ]
  },
  {
   "cell_type": "code",
   "execution_count": null,
   "metadata": {},
   "outputs": [],
   "source": [
    "#### Ethnicity and marital status\n",
    "ed_pts['anchor_age'] = ed_pts['anchor_age'].astype(np.int16)\n",
    "ed_pts['race_group'] = np.where(ed_pts['race'].str.contains('white', case=False), 'White', 'Other')\n",
    "ed_pts['race_group'] = np.where(ed_pts['race'].str.contains('black', case=False), 'Black', ed_pts['race_group'])\n",
    "ed_pts['race_group'] = np.where(ed_pts['race'].str.contains('hispanic|portuguese', case=False), 'Hispanic/Latino', ed_pts['race_group'])\n",
    "ed_pts['race_group'] = np.where(ed_pts['race'].str.contains('asian', case=False), 'Asian', ed_pts['race_group'])\n",
    "ed_pts['marital_status'] = ed_pts['marital_status'].str.lower().str.capitalize()"
   ]
  },
  {
   "cell_type": "code",
   "execution_count": null,
   "metadata": {},
   "outputs": [],
   "source": [
    "ed_pts['gender'].value_counts(normalize=True)"
   ]
  },
  {
   "cell_type": "code",
   "execution_count": null,
   "metadata": {},
   "outputs": [],
   "source": [
    "ed_pts['insurance'].value_counts(normalize=True)"
   ]
  },
  {
   "cell_type": "code",
   "execution_count": null,
   "metadata": {},
   "outputs": [],
   "source": [
    "ed_pts['marital_status'].value_counts(normalize=True)"
   ]
  },
  {
   "cell_type": "code",
   "execution_count": null,
   "metadata": {},
   "outputs": [],
   "source": [
    "ed_pts['race_group'].value_counts(normalize=True)"
   ]
  },
  {
   "cell_type": "code",
   "execution_count": null,
   "metadata": {},
   "outputs": [],
   "source": [
    "def prep_exploration_features(demo_path='../outputs/linked_data/linked_demographics.csv',\n",
    "                              notes_path='../outputs/linked_data/linked_notes.csv'):\n",
    "    demo_data = pd.read_csv(demo_path)\n",
    "    notes_data = pd.read_csv(notes_path)\n",
    "    print('Loaded unique patients:', demo_data.hadm_id.nunique())\n",
    "    print(f'Loaded unique notes {notes_data.hadm_id.nunique()}, across {notes_data.subject_id.nunique()} patients.')\n",
    "    ### Merge and aggregate notes data with demographics\n",
    "    notes_grouped = notes_data.groupby('subject_id').agg({'hadm_id': 'nunique', 'input_tokens': 'sum', 'target_tokens': 'sum'}).reset_index()\n",
    "    notes_grouped = notes_grouped.rename(columns={'hadm_id': 'num_summaries', 'input_tokens': 'num_input_tokens', 'target_tokens': 'num_target_tokens'})\n",
    "    notes_grouped[['num_summaries', 'num_input_tokens', 'num_target_tokens']] = notes_grouped[['num_summaries', 'num_input_tokens', 'num_target_tokens']].astype(np.int32)\n",
    "    ed_pts = demo_data[demo_data['subject_id'].isin(notes_data['subject_id'])]\n",
    "    ed_pts = ed_pts.merge(notes_grouped, on='subject_id', how='left')\n",
    "    print('Demographics summary')\n",
    "    print('Unique patients:', ed_pts.subject_id.nunique())\n",
    "    print('Age distribution:', ed_pts.anchor_age.describe())\n",
    "    print('Gender distribution:', ed_pts.gender.value_counts())\n",
    "    print('-------------------------------')\n",
    "    print('Health outcomes')\n",
    "    print(ed_pts.in_hosp_death.value_counts(normalize=True))\n",
    "    print(ed_pts.ext_stay_7.value_counts(normalize=True))\n",
    "    print(ed_pts.non_home_discharge.value_counts(normalize=True))\n",
    "    print(ed_pts.icu_admission.value_counts(normalize=True))\n",
    "    print('-------------------------------')\n",
    "    print('Comorbidity history')\n",
    "    print(ed_pts.is_multimorbid.value_counts(normalize=True))\n",
    "    print(ed_pts.is_complex_multimorbid.value_counts(normalize=True))\n",
    "    print(ed_pts.phys_men_multimorbidity.value_counts(normalize=True))\n",
    "    #### Process Ethnicity and marital status\n",
    "    ed_pts['anchor_age'] = ed_pts['anchor_age'].astype(np.int16)\n",
    "    ed_pts['race_group'] = np.where(ed_pts['race'].str.contains('white|middle eastern|portuguese', case=False), 'White', 'Other')\n",
    "    ed_pts['race_group'] = np.where(ed_pts['race'].str.contains('black|caribbean island', case=False), 'Black', ed_pts['race_group'])\n",
    "    ed_pts['race_group'] = np.where(ed_pts['race'].str.contains('hispanic|south american', case=False), 'Hispanic/Latino', ed_pts['race_group'])\n",
    "    ed_pts['race_group'] = np.where(ed_pts['race'].str.contains('asian', case=False), 'Asian', ed_pts['race_group'])\n",
    "    ed_pts['marital_status'] = ed_pts['marital_status'].str.lower().str.capitalize()\n",
    "    ed_pts.to_csv(demo_path, index=False)\n",
    "    print('Saved processed data to:', demo_path)\n",
    "    return ed_pts"
   ]
  },
  {
   "cell_type": "code",
   "execution_count": null,
   "metadata": {},
   "outputs": [],
   "source": [
    "ed_pts = prep_exploration_features()"
   ]
  },
  {
   "cell_type": "markdown",
   "metadata": {},
   "source": [
    "##### Baseline demographics in patients with ED attendance and complete discharge history"
   ]
  },
  {
   "cell_type": "code",
   "execution_count": null,
   "metadata": {},
   "outputs": [],
   "source": [
    "def get_table_one(ed_pts, output_path, outcome, disp_dict_path='../../data/MIMIC-IV/config/feat_name_map.json',\n",
    "                sensitive_attr=['Sex', 'Ethnicity', 'Marital Status', 'Insurance'],\n",
    "                nn_attr = ['Age', '# historical discharge notes', '# Raw Input Tokens', '# Processed Input Tokens'],\n",
    "                cat_cols=None):\n",
    "\n",
    "    ### Load display dictionary\n",
    "    with open(disp_dict_path, 'r') as f:\n",
    "        disp_dict = json.load(f)\n",
    "    ### Infer categorical data\n",
    "    if cat_cols is None:\n",
    "        cat_cols = [el for el in disp_dict.values() if el not in nn_attr]\n",
    "    ed_disp = ed_pts.rename(columns=disp_dict)\n",
    "    ed_disp = ed_disp[disp_dict.values()]\n",
    "    ### Code categorical columns\n",
    "    for col in cat_cols:\n",
    "        if col not in sensitive_attr:\n",
    "            ed_disp[col] = np.where(ed_disp[col]==1, 'Yes', 'No')\n",
    "    ### Generate Table 1 summary with p-values for target outcome\n",
    "    print(f'Generating table summary by {outcome} with prevalence {(ed_disp[outcome].value_counts(normalize=True).iloc[1]*100).round(2)}%')\n",
    "    tb_one_hd = TableOne(ed_disp,\n",
    "                     categorical=[col for col in cat_cols if outcome!=col],\n",
    "                     nonnormal=nn_attr,\n",
    "                     groupby=outcome, overall=True, pval=True, htest_name=True, tukey_test=True,\n",
    "                     decimals=0, pval_adjust='bonferroni')\n",
    "    tb_one_hd.to_html(output_path)\n",
    "    print(f'Saved table summary grouped by {outcome} to {output_path}.')\n",
    "    return tb_one_hd"
   ]
  },
  {
   "cell_type": "code",
   "execution_count": null,
   "metadata": {},
   "outputs": [],
   "source": [
    "ihd_tb = get_table_one(ed_pts, '../outputs/exploration/t1_in_hosp_death.html', 'In-hospital Death')\n",
    "ext_tb = get_table_one(ed_pts, '../outputs/exploration/t1_ext_stay.html', 'Extended Hospital Stay')\n",
    "nhd_tb = get_table_one(ed_pts, '../outputs/exploration/t1_nh_discharge.html', 'Non-home Discharge')\n",
    "icu_tb = get_table_one(ed_pts, '../outputs/exploration/t1_icu_admission.html', 'ICU Admission')"
   ]
  },
  {
   "cell_type": "markdown",
   "metadata": {},
   "source": [
    "##### Distribution plots by sensitive groups"
   ]
  },
  {
   "cell_type": "code",
   "execution_count": null,
   "metadata": {},
   "outputs": [],
   "source": [
    "### Define age group variable\n",
    "ed_pts['age_group'] = pd.cut(ed_pts['anchor_age'],\n",
    "                             bins=[18, 49, 59, 69, 79, 91],\n",
    "                             labels=['<50', '50-59', '60-69', '70-79', '80+']).astype('category')"
   ]
  },
  {
   "cell_type": "code",
   "execution_count": null,
   "metadata": {},
   "outputs": [],
   "source": [
    "def get_age_table_by_sensitive_attr(ed_pts, attr_name, outcome,\n",
    "                                   value_name_col):\n",
    "    ### Modify dataset into long format and parse samples by sensitive attribute\n",
    "    ed_inh_long = pd.melt(ed_pts[ed_pts[outcome]==1], id_vars=[attr_name], value_vars=['age_group'], value_name=value_name_col)\n",
    "    ed_inh_long = ed_inh_long.groupby([attr_name, value_name_col], observed=False).size().reset_index(name='# Patients')\n",
    "    ed_y_cts = ed_inh_long.groupby(attr_name)['# Patients'].apply(lambda x: x.sum()).reset_index().rename(columns={'# Patients': 'Total'})\n",
    "    ed_inh_long = ed_inh_long.merge(ed_y_cts, how='left', on=attr_name)\n",
    "    ed_inh_long['Percentage'] = round(ed_inh_long['# Patients']/ed_inh_long['Total'], 4)\n",
    "    return ed_inh_long\n",
    "\n",
    "def plot_outcome_dist_by_sensitive_attr(ed_pts, output_path, attr_col,\n",
    "                                    outcome_list=['in_hosp_death', 'ext_stay_7', 'non_home_discharge','icu_admission'],\n",
    "                                    outcome_title=['In-hospital death', 'Extended stay (>7 days)', 'Non-home discharge', 'ICU admission'],\n",
    "                                    outcome_legend={'In-hospital death': ['No', 'Yes'], 'Extended stay (>7 days)': ['No', 'Yes'],\n",
    "                                                    'Non-home discharge': ['No', 'Yes'], 'ICU admission': ['No', 'Yes']},\n",
    "                                    attr_xlabel='Gender', maxi=2, maxj=2,\n",
    "                                    rot=0, figsize=(8,6), palette=['#1f77b4', '#ff7f0e']):\n",
    "    ### Set plot config\n",
    "    plt.rcParams.update({'font.size': 12, 'font.weight': 'normal', 'font.family': 'serif'})\n",
    "    fig, ax = plt.subplots(2, 2, figsize=figsize, sharey=True)\n",
    "    fig.suptitle(f'Health outcome distribution by {attr_xlabel}', fontsize=16)\n",
    "    fig.supxlabel(attr_xlabel, fontsize=14)\n",
    "    fig.supylabel('Percentage of patients with ED attendance', fontsize=14)\n",
    "    outcome_idx = 0\n",
    "    for i in range(maxi):\n",
    "        for j in range(maxj):\n",
    "            ed_gr = ed_pts.groupby([attr_col, outcome_list[outcome_idx]]).size().reset_index(name='count')\n",
    "            total_counts = ed_gr.groupby(attr_col)['count'].transform('sum')\n",
    "            ed_gr['percentage'] = ed_gr['count'] / total_counts * 100\n",
    "\n",
    "            # Plot relative percentages\n",
    "            sns.barplot(data=ed_gr, x=attr_col, y='percentage', hue=outcome_list[outcome_idx], ax=ax[i][j],\n",
    "                        palette=palette)\n",
    "            handles = [Patch(color=palette[k], label=outcome_legend[outcome_title[outcome_idx]][k]) for k in range(len(outcome_legend[outcome_title[outcome_idx]]))]\n",
    "            ax[i][j].legend(handles=handles, title=outcome_title[outcome_idx])\n",
    "            #ax[i][j].legend(title=outcome_title[outcome_idx], labels=outcome_legend[outcome_title[outcome_idx]])\n",
    "            ax[i][j].set_xlabel('')\n",
    "            ax[i][j].set_ylabel('')\n",
    "            ax[i][j].yaxis.set_major_formatter(mtick.FuncFormatter(lambda x, _: f'{x:.0f}%'))\n",
    "            if j==1:\n",
    "                ax[i][j].tick_params(left=False)\n",
    "            plt.sca(ax[i][j])\n",
    "            plt.xticks(rotation=rot, ha='center')\n",
    "            outcome_idx+=1\n",
    "\n",
    "    plt.tight_layout()\n",
    "    plt.savefig(output_path)\n",
    "    print(f'Saved plot to {output_path}.')\n",
    "    plt.show()\n",
    "\n",
    "def plot_age_dist_by_sensitive_attr(ed_pts, output_path, attr_col,\n",
    "                                    outcome_list=['in_hosp_death', 'ext_stay_7', 'non_home_discharge','icu_admission'],\n",
    "                                    outcome_title=['In-hospital Death', 'Extended Stay (>7 days)', 'Non-home Discharge', 'ICU Admission'],\n",
    "                                    attr_xlabel='gender', maxi=2, maxj=2,\n",
    "                                    colors=['#fef0d9', '#fdcc8a', '#fc8d59', '#e34a33', '#b30000'],\n",
    "                                    labels=['<50', '50-59', '60-69', '70-79', '80+'],\n",
    "                                    figsize=(8,6), rot=0):\n",
    "    ### Set plot config\n",
    "    plt.rcParams.update({'font.size': 12, 'font.weight': 'normal', 'font.family': 'serif'})\n",
    "    fig, ax = plt.subplots(2, 2, figsize=(12, 8), sharey=True)\n",
    "    fig.suptitle('Age distribution by sensitive variable in patients with adverse event.', fontsize=16)\n",
    "    fig.supxlabel(attr_xlabel, fontsize=14)\n",
    "    fig.supylabel('Percentage of patients with ED attendance', fontsize=14)\n",
    "    outcome_idx = 0\n",
    "    lg_flag = False\n",
    "    for i in range(maxi):\n",
    "        for j in range(maxj):\n",
    "            lg_flag = True if outcome_idx == 1 else False\n",
    "            ed_long = get_age_table_by_sensitive_attr(ed_pts, attr_col, outcome_list[outcome_idx], 'age_'+attr_xlabel)\n",
    "            ax[i][j] = pd.pivot_table(ed_long[[attr_col, 'age_'+attr_xlabel, 'Percentage']], columns='age_'+attr_xlabel,\n",
    "                                      index=attr_col, sort=True, observed=False).plot(title=outcome_title[outcome_idx],\n",
    "                                                                                      kind='bar', stacked=True, figsize=figsize,\n",
    "                                                                      ax=ax[i][j], legend=lg_flag,\n",
    "                                                                      color=colors)\n",
    "            if lg_flag:\n",
    "                ax[i][j].legend(title='Age Group', labels=labels, bbox_to_anchor=(1,1))\n",
    "            if j==1:\n",
    "                ax[i][j].tick_params(left=False)\n",
    "            ax[i][j].set_xlabel('')\n",
    "            ax[i][j].set_ylabel('')\n",
    "            ax[0][0].yaxis.set_major_formatter(mtick.PercentFormatter(1))\n",
    "            plt.sca(ax[i][j])\n",
    "            plt.xticks(rotation=rot, ha='center')\n",
    "            outcome_idx+=1\n",
    "\n",
    "    plt.tight_layout()\n",
    "    plt.savefig(output_path)\n",
    "    print(f'Saved plot to {output_path}.')\n",
    "    plt.show()\n"
   ]
  },
  {
   "cell_type": "code",
   "execution_count": null,
   "metadata": {},
   "outputs": [],
   "source": [
    "def get_token_length_by_attribute(ed_tg, output_path,\n",
    "                                    attr_list=['gender', 'insurance', 'race_group', 'marital_status'],\n",
    "                                    attr_title=['Gender', 'Insurance type', 'Ethnicity', 'Marital status'],\n",
    "                                    maxi=2, maxj=2,\n",
    "                                    figsize=(8,6), rot=0, ylim=(0,12),\n",
    "                                    gr_pairs={'gender': [('M', 'F')],\n",
    "                                              'insurance': [('Medicare', 'Medicaid'), ('Medicare', 'Private'), ('Medicaid', 'Private')],\n",
    "                                              'race_group': [('White', 'Black'), ('White', 'Hispanic/Latino'), ('White', 'Asian'),\n",
    "                                                             ('Black', 'Hispanic/Latino'), ('Black', 'Asian'), ('Hispanic/Latino', 'Asian')],\n",
    "                                              'marital_status': [('Divorced', 'Single'), ('Divorced', 'Married'), ('Divorced', 'Widowed'),\n",
    "                                                                 ('Single', 'Married'), ('Single', 'Widowed'), ('Married', 'Widowed')],\n",
    "                                              },\n",
    "                                    suptitle='BHC token length by sensitive variable in patients with ED attendance.',\n",
    "                                    outcome_mode=False):\n",
    "\n",
    "    ### log transform target tokens\n",
    "    ed_tg['num_target_tokens_lg'] = np.log1p(ed_tg['num_target_tokens'])\n",
    "    ## Exclude other categories\n",
    "    ed_tg = ed_tg[ed_tg['race_group']!='Other']\n",
    "    ed_tg = ed_tg[ed_tg['insurance']!='Other']\n",
    "    ### Set plot config\n",
    "    plt.rcParams.update({'font.size': 12, 'font.weight': 'normal', 'font.family': 'serif'})\n",
    "    fig, ax = plt.subplots(2, 2, figsize=figsize, sharey=True)\n",
    "    fig.suptitle(suptitle, fontsize=16)\n",
    "    fig.supylabel('Log-transformed token length', fontsize=14)\n",
    "    attr_idx = 0\n",
    "    for i in range(maxi):\n",
    "        for j in range(maxj):\n",
    "            ### If exploring health outcomes, relabel the categories\n",
    "            if outcome_mode:\n",
    "                ed_tg[attr_list[attr_idx]] = pd.Categorical(np.where(ed_tg[attr_list[attr_idx]]==1, 'Y', 'N'))\n",
    "            ax[i][j] = sns.violinplot(data=ed_tg, x=attr_list[attr_idx], y='num_target_tokens_lg', ax=ax[i][j])\n",
    "            ax[i][j].set_xlabel(attr_title[attr_idx])\n",
    "            ax[i][j].set_ylabel('')\n",
    "            if j==1:\n",
    "                ax[i][j].tick_params(left=False)\n",
    "            plt.sca(ax[i][j])\n",
    "            plt.xticks(rotation=rot, ha='center')\n",
    "            plt.ylim(ylim)\n",
    "            ### Annotate significant differences\n",
    "            print(f'Annotating significant differences for {attr_list[attr_idx]}')\n",
    "            annot = Annotator(ax[i][j], data=ed_tg, x=attr_list[attr_idx], y='num_target_tokens_lg', pairs=gr_pairs[attr_list[attr_idx]])\n",
    "            annot.configure(test='t-test_welch', text_format='star', loc='outside', verbose=0, comparisons_correction='bonferroni')\n",
    "            annot._pvalue_format.pvalue_thresholds = [[0.001, '***'], [0.01, '**'], [0.1, '*'], [1, 'ns']]\n",
    "            annot.apply_and_annotate()\n",
    "            attr_idx+=1\n",
    "\n",
    "    plt.tight_layout(pad=0.5)\n",
    "    plt.savefig(output_path)\n",
    "    print(f'Saved plot to {output_path}.')\n",
    "    plt.show()"
   ]
  },
  {
   "cell_type": "code",
   "execution_count": null,
   "metadata": {},
   "outputs": [],
   "source": [
    "plot_outcome_dist_by_sensitive_attr(ed_pts, '../outputs/exploration/outcome_dist_by_gender.png', attr_col='gender', attr_xlabel='Gender')"
   ]
  },
  {
   "cell_type": "code",
   "execution_count": null,
   "metadata": {},
   "outputs": [],
   "source": [
    "plot_outcome_dist_by_sensitive_attr(ed_pts, '../outputs/exploration/outcome_dist_by_ms.png', attr_col='marital_status', attr_xlabel='Marital status',\n",
    "                                    figsize=(8,8), rot=35)"
   ]
  },
  {
   "cell_type": "code",
   "execution_count": null,
   "metadata": {},
   "outputs": [],
   "source": [
    "plot_outcome_dist_by_sensitive_attr(ed_pts, '../outputs/exploration/outcome_dist_by_ethnicity.png', attr_col='race_group', attr_xlabel='Ethnicity',\n",
    "                                    figsize=(8,8), rot=35)"
   ]
  },
  {
   "cell_type": "code",
   "execution_count": null,
   "metadata": {},
   "outputs": [],
   "source": [
    "plot_outcome_dist_by_sensitive_attr(ed_pts, '../outputs/exploration/outcome_dist_by_insurance.png', attr_col='insurance', attr_xlabel='Insurance type',\n",
    "                                    figsize=(8,7))"
   ]
  },
  {
   "cell_type": "code",
   "execution_count": null,
   "metadata": {},
   "outputs": [],
   "source": [
    "plot_age_dist_by_sensitive_attr(ed_pts, output_path='../outputs/exploration/age_dist_by_ethnicity.png',\n",
    "                                attr_col='race_group', attr_xlabel='Ethnicity', figsize=(10,7), rot=30)"
   ]
  },
  {
   "cell_type": "code",
   "execution_count": null,
   "metadata": {},
   "outputs": [],
   "source": [
    "plot_age_dist_by_sensitive_attr(ed_pts, output_path='../outputs/exploration/age_dist_by_ms.png',\n",
    "                                attr_col='marital_status', attr_xlabel='Marital Status', figsize=(10,7), rot=30)"
   ]
  },
  {
   "cell_type": "code",
   "execution_count": null,
   "metadata": {},
   "outputs": [],
   "source": [
    "plot_age_dist_by_sensitive_attr(ed_pts, output_path='../outputs/exploration/age_dist_by_insurance.png',\n",
    "                                attr_col='insurance', attr_xlabel='Insurance type', figsize=(10,6))"
   ]
  },
  {
   "cell_type": "code",
   "execution_count": null,
   "metadata": {},
   "outputs": [],
   "source": [
    "plot_age_dist_by_sensitive_attr(ed_pts, output_path='../outputs/exploration/age_dist_by_gender.png',\n",
    "                                attr_col='gender', attr_xlabel='Gender')"
   ]
  },
  {
   "cell_type": "code",
   "execution_count": null,
   "metadata": {},
   "outputs": [],
   "source": [
    "get_token_length_by_attribute(ed_pts, '../outputs/exploration/tl_by_outcome.png',\n",
    "                              attr_list=['in_hosp_death', 'ext_stay_7', 'non_home_discharge', 'icu_admission'],\n",
    "                              attr_title=['In-hospital Death', 'Extended Stay (>7 days)', 'Non-home Discharge', 'ICU Admission'],\n",
    "                              figsize=(8,8), ylim=(0,12),\n",
    "                              suptitle='BHC token length by health outcome in patients with ED attendance.',\n",
    "                              gr_pairs={'in_hosp_death': [('N', 'Y')],\n",
    "                                        'ext_stay_7': [('N', 'Y')],\n",
    "                                        'non_home_discharge': [('N', 'Y')],\n",
    "                                        'icu_admission': [('N', 'Y')]},\n",
    "                              outcome_mode=True)"
   ]
  },
  {
   "cell_type": "code",
   "execution_count": null,
   "metadata": {},
   "outputs": [],
   "source": [
    "get_token_length_by_attribute(ed_pts, '../outputs/exploration/tl_by_attr.png', rot=45, figsize=(8,12), ylim=(0,12))"
   ]
  },
  {
   "cell_type": "code",
   "execution_count": null,
   "metadata": {},
   "outputs": [],
   "source": [
    "ed_pts['age_group'].value_counts(normalize=True)"
   ]
  },
  {
   "cell_type": "code",
   "execution_count": null,
   "metadata": {},
   "outputs": [],
   "source": [
    "disp_dict={\n",
    "    ### Demographics\n",
    "    'anchor_age': 'Age',\n",
    "    'gender': 'Sex',\n",
    "    'race_group': 'Ethnicity',\n",
    "    'marital_status': 'Marital Status',\n",
    "    'insurance': 'Insurance',\n",
    "    'is_multimorbid': 'Multimorbidity (>=2 conditions)',\n",
    "    'is_complex_multimorbid': 'High-count Multimorbidity (>=4 conditions)',\n",
    "    'phys_men_multimorbidity': 'Physical/Mental Multimorbidity',\n",
    "    ### Physical conditions\n",
    "    'physltc_active_cancer': 'Active Cancer',\n",
    "    'physltc_ischaemic_heart_disease': 'Ischaemic Heart Disease',\n",
    "    'physltc_hypertension': 'Hypertension',\n",
    "    'physltc_diabetes': 'Diabetes',\n",
    "    'physltc_asthma': 'Asthma',\n",
    "    'physltc_copd': 'COPD',\n",
    "    'physltc_chronic_kidney_disease': 'Chronic Kidney Disease',\n",
    "    'physltc_heart_failure': 'Heart Failure',\n",
    "    'physltc_stroke': 'Stroke',\n",
    "    'physltc_abd_aortic_aneurysm': 'Abdominal Aortic Aneurysm',\n",
    "    'physltc_atrial_fibrillation': 'Atrial Fibrillation',\n",
    "    'physltc_osteoporosis': 'Osteoporosis',\n",
    "    'physltc_peripheral_arterial_disease': 'Peripheral Arterial Disease',\n",
    "    'physltc_inflammatory_bowel_disease': 'Inflammatory Bowel Disease',\n",
    "    'physltc_liver_disease': 'Liver Disease',\n",
    "    'physltc_arthritis': 'Arthritis',\n",
    "    'physltc_hip_fracture': 'Hip Fracture',\n",
    "    'physltc_progressive_neur_disease': 'Progressive Neurological Disease (incl. dementia)',\n",
    "    'physltc_pulmonary_fibrosis': 'Pulmonary Fibrosis',\n",
    "    'physltc_bronchiectasis': 'Bronchiectasis',\n",
    "    'physltc_epilepsy': 'Epilepsy',\n",
    "    'physltc_obesity': 'Obesity',\n",
    "    ### Mental health conditions\n",
    "    'menltc_alcohol_substance_misuse': 'Alcohol/Substance Misuse',\n",
    "    'menltc_psychiatric_disorders': 'Psychiatric Disorders',\n",
    "    'menltc_depression': 'Depression',\n",
    "    ### Outcomes\n",
    "    'in_hosp_death': 'In-hospital Death',\n",
    "    'ext_stay_7': 'Extended Hospital Stay',\n",
    "    'non_home_discharge': 'Non-home Discharge',\n",
    "    'icu_admission': 'ICU Admission',\n",
    "    ### Text summary\n",
    "    'num_summaries': '# historical discharge notes',\n",
    "    'num_input_tokens': '# Raw Input Tokens',\n",
    "    'num_target_tokens': '# Processed Input Tokens'\n",
    "}\n",
    "sensitive_cols = ['Sex', 'Ethnicity', 'Marital Status', 'Insurance']\n",
    "nn_cols = ['Age', '# historical discharge notes', '# Raw Input Tokens', '# Processed Input Tokens']\n",
    "cat_cols = [el for el in disp_dict.values() if el not in nn_cols]\n",
    "ed_disp = ed_pts.rename(columns=disp_dict)\n",
    "ed_disp = ed_disp[disp_dict.values()]\n",
    "\n",
    "### Code categorical columns\n",
    "for col in cat_cols:\n",
    "    if col not in sensitive_cols:\n",
    "        ed_disp[col] = np.where(ed_disp[col]==1, 'Yes', 'No')"
   ]
  }
 ],
 "metadata": {
  "kernelspec": {
   "display_name": ".venv (3.10.11)",
   "language": "python",
   "name": "python3"
  },
  "language_info": {
   "codemirror_mode": {
    "name": "ipython",
    "version": 3
   },
   "file_extension": ".py",
   "mimetype": "text/x-python",
   "name": "python",
   "nbconvert_exporter": "python",
   "pygments_lexer": "ipython3",
   "version": "3.10.11"
  }
 },
 "nbformat": 4,
 "nbformat_minor": 2
}
