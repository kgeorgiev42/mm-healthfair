{
 "cells": [
  {
   "cell_type": "code",
   "execution_count": null,
   "metadata": {},
   "outputs": [],
   "source": [
    "import pandas as pd\n",
    "import polars as pl\n",
    "import numpy as np\n",
    "import os\n",
    "import pickle"
   ]
  },
  {
   "cell_type": "markdown",
   "metadata": {},
   "source": [
    "#### Basic overview of generated embedding .pkl file"
   ]
  },
  {
   "cell_type": "code",
   "execution_count": null,
   "metadata": {},
   "outputs": [],
   "source": [
    "def load_pickle(filepath: str):\n",
    "    \"\"\"Load a pickled object.\n",
    "\n",
    "    Args:\n",
    "        filepath (str): Path to pickle (.pkl) file.\n",
    "\n",
    "    Returns:\n",
    "        Any: Loaded object.\n",
    "    \"\"\"\n",
    "    with open(filepath, \"rb\") as f:\n",
    "        data = pickle.load(f)\n",
    "    return data"
   ]
  },
  {
   "cell_type": "code",
   "execution_count": null,
   "metadata": {},
   "outputs": [],
   "source": [
    "embeddings = load_pickle(\"../outputs/processed_data/mmfair_feat.pkl\")\n",
    "emb_new = load_pickle(\"../outputs/prep_data/mmfair_feat.pkl\")\n",
    "cols = load_pickle(\"../outputs/prep_data/mmfair_cols.pkl\")"
   ]
  },
  {
   "cell_type": "code",
   "execution_count": null,
   "metadata": {},
   "outputs": [],
   "source": [
    "embeddings_df = pd.DataFrame(embeddings)"
   ]
  },
  {
   "cell_type": "code",
   "execution_count": null,
   "metadata": {},
   "outputs": [],
   "source": [
    "list(embeddings.keys())[:5]"
   ]
  },
  {
   "cell_type": "code",
   "execution_count": null,
   "metadata": {},
   "outputs": [],
   "source": [
    "len(cols['static_cols']), len([ 0,  0,  0,  0,  0,  0,  1,  0,  0,  0,  0,  0,  1,  0,  0,  0,\n",
    "          0,  0,  0,  0,  0,  1,  1,  0,  0,  1,  4,  1,  1, 11, 39,  1,\n",
    "          0,  0,  0,  0,  0,  0,  5,  0,  0,  1,  0,  0,  0,  2,  0,  3,\n",
    "          0,  0,  1,  0,  8,  0,  0,  0,  0,  0,  0,  0,  0,  1,  0,  0,\n",
    "          1,  0,  0,  0,  0,  1,  0,  5,  0,  0,  0,  0,  0,  0,  0, 12,\n",
    "          7,  0,  0,  3,  0,  0, 52,  1,  0,  0,  1,  0,  0,  0,  0,  1,\n",
    "          0,  0,  1,  0,  0])"
   ]
  },
  {
   "cell_type": "markdown",
   "metadata": {},
   "source": [
    "#### Recode some of the embeddings"
   ]
  },
  {
   "cell_type": "code",
   "execution_count": null,
   "metadata": {},
   "outputs": [],
   "source": [
    "for id_val in embeddings.keys():\n",
    "    embeddings[id_val]['static'] = emb_new[id_val]['static']\n",
    "    embeddings[id_val]['dynamic_0'] = emb_new[id_val]['dynamic_0']\n",
    "    embeddings[id_val]['dynamic_1'] = emb_new[id_val]['dynamic_1']\n",
    "    embeddings[id_val]['in_hosp_death'] = emb_new[id_val]['in_hosp_death']\n",
    "    embeddings[id_val]['ext_stay_7'] = emb_new[id_val]['ext_stay_7']\n",
    "    embeddings[id_val]['icu_admission'] = emb_new[id_val]['icu_admission']\n",
    "    embeddings[id_val]['non_home_discharge'] = emb_new[id_val]['non_home_discharge']"
   ]
  },
  {
   "cell_type": "code",
   "execution_count": null,
   "metadata": {},
   "outputs": [],
   "source": [
    "with open(os.path.join(\"../outputs/processed_data\", \"mmfair_feat.pkl\"), \"wb\") as f:\n",
    "        pickle.dump(embeddings, f)"
   ]
  },
  {
   "cell_type": "code",
   "execution_count": null,
   "metadata": {},
   "outputs": [],
   "source": [
    "extr_list = []\n",
    "for item in embeddings[id_val]['notes']:\n",
    "    extr_list.append(item[1])\n",
    "print(extr_list)"
   ]
  },
  {
   "cell_type": "code",
   "execution_count": null,
   "metadata": {},
   "outputs": [],
   "source": [
    "embeddings[10000032]['static'].shape[1]"
   ]
  },
  {
   "cell_type": "code",
   "execution_count": null,
   "metadata": {},
   "outputs": [],
   "source": [
    "embeddings[list(embeddings.keys())[-1]]"
   ]
  },
  {
   "cell_type": "code",
   "execution_count": null,
   "metadata": {},
   "outputs": [],
   "source": [
    "list(embeddings.keys())"
   ]
  },
  {
   "cell_type": "code",
   "execution_count": null,
   "metadata": {},
   "outputs": [],
   "source": [
    "embeddings[list(embeddings.keys())[0]].keys()"
   ]
  },
  {
   "cell_type": "code",
   "execution_count": null,
   "metadata": {},
   "outputs": [],
   "source": [
    "[key for key in embeddings[list(embeddings.keys())[0]].keys() if \"dynamic\" in key]"
   ]
  },
  {
   "cell_type": "markdown",
   "metadata": {},
   "source": [
    "#### Test training IDs"
   ]
  },
  {
   "cell_type": "code",
   "execution_count": null,
   "metadata": {},
   "outputs": [],
   "source": [
    "train_hosp_death = pd.read_csv('../outputs/prep_data/training_ids_in_hosp_death.csv')\n",
    "val_hosp_death = pd.read_csv('../outputs/prep_data/validation_ids_in_hosp_death.csv')\n",
    "test_hosp_death = pd.read_csv('../outputs/prep_data/testing_ids_in_hosp_death.csv')"
   ]
  },
  {
   "cell_type": "code",
   "execution_count": null,
   "metadata": {},
   "outputs": [],
   "source": [
    "train_icu = pd.read_csv('../outputs/prep_data/training_ids_icu_admission.csv')"
   ]
  },
  {
   "cell_type": "code",
   "execution_count": null,
   "metadata": {},
   "outputs": [],
   "source": [
    "overlap = set(train_icu['subject_id']).intersection(set(train_hosp_death['subject_id']))\n",
    "print(len(overlap))"
   ]
  },
  {
   "cell_type": "code",
   "execution_count": null,
   "metadata": {},
   "outputs": [],
   "source": [
    "emb_ids = list(embeddings.keys())\n",
    "overlap = set(emb_ids).intersection(set(train_hosp_death['subject_id']))\n",
    "overlapv = set(emb_ids).intersection(set(val_hosp_death['subject_id']))\n",
    "overlapt = set(emb_ids).intersection(set(test_hosp_death['subject_id']))\n",
    "print(len(overlap), len(overlapv), len(overlapt), len(train_hosp_death), len(embeddings.keys()))"
   ]
  }
 ],
 "metadata": {
  "kernelspec": {
   "display_name": ".venv",
   "language": "python",
   "name": "python3"
  },
  "language_info": {
   "codemirror_mode": {
    "name": "ipython",
    "version": 3
   },
   "file_extension": ".py",
   "mimetype": "text/x-python",
   "name": "python",
   "nbconvert_exporter": "python",
   "pygments_lexer": "ipython3",
   "version": "3.10.11"
  }
 },
 "nbformat": 4,
 "nbformat_minor": 2
}
