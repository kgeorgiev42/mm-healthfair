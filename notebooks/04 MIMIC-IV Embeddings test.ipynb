{
 "cells": [
  {
   "cell_type": "code",
   "execution_count": 1,
   "metadata": {},
   "outputs": [],
   "source": [
    "import pandas as pd\n",
    "import polars as pl\n",
    "import numpy as np\n",
    "import os\n",
    "import pickle"
   ]
  },
  {
   "cell_type": "markdown",
   "metadata": {},
   "source": [
    "#### Basic overview of generated embedding .pkl file"
   ]
  },
  {
   "cell_type": "code",
   "execution_count": 2,
   "metadata": {},
   "outputs": [],
   "source": [
    "def load_pickle(filepath: str):\n",
    "    \"\"\"Load a pickled object.\n",
    "\n",
    "    Args:\n",
    "        filepath (str): Path to pickle (.pkl) file.\n",
    "\n",
    "    Returns:\n",
    "        Any: Loaded object.\n",
    "    \"\"\"\n",
    "    with open(filepath, \"rb\") as f:\n",
    "        data = pickle.load(f)\n",
    "    return data"
   ]
  },
  {
   "cell_type": "code",
   "execution_count": 3,
   "metadata": {},
   "outputs": [],
   "source": [
    "embeddings = load_pickle(\"../outputs/processed_data/mmfair_feat.pkl\")\n",
    "emb_old = load_pickle(\"../outputs/prev_data/mmfair_feat.pkl\")\n",
    "cols = load_pickle(\"../outputs/processed_data/mmfair_cols.pkl\")"
   ]
  },
  {
   "cell_type": "code",
   "execution_count": null,
   "metadata": {},
   "outputs": [],
   "source": [
    "print(len(embeddings.keys()), len(emb_old.keys()))\n",
    "### Get keys in embeddings but not in embeddings_old\n",
    "keys = set(embeddings.keys()) - set(emb_old.keys())\n",
    "print(len(keys))\n",
    "### Get keys in embeddings_old but not in embeddings\n",
    "keys = set(emb_old.keys()) - set(embeddings.keys())\n",
    "print(len(keys))"
   ]
  },
  {
   "cell_type": "code",
   "execution_count": 10,
   "metadata": {},
   "outputs": [],
   "source": [
    "risk_dict = load_pickle(\"..\\outputs\\evaluation\\ext_stay_7_concat_static_timeseries\\pf_ext_stay_7_concat_static_timeseries.pkl\")"
   ]
  },
  {
   "cell_type": "code",
   "execution_count": 16,
   "metadata": {},
   "outputs": [
    {
     "data": {
      "text/plain": [
       "(2060, 2060)"
      ]
     },
     "execution_count": 16,
     "metadata": {},
     "output_type": "execute_result"
    }
   ],
   "source": [
    "len(risk_dict['risk_quantile']), len(risk_dict['y_prob'])"
   ]
  },
  {
   "cell_type": "code",
   "execution_count": null,
   "metadata": {},
   "outputs": [],
   "source": [
    "embeddings"
   ]
  },
  {
   "cell_type": "code",
   "execution_count": 7,
   "metadata": {},
   "outputs": [
    {
     "data": {
      "text/plain": [
       "{'static_cols': ['physltc_abd_aortic_aneurysm',\n",
       "  'physltc_ischaemic_heart_disease',\n",
       "  'physltc_hypertension',\n",
       "  'physltc_stroke',\n",
       "  'physltc_peripheral_arterial_disease',\n",
       "  'physltc_inflammatory_bowel_disease',\n",
       "  'physltc_liver_disease',\n",
       "  'physltc_diabetes',\n",
       "  'physltc_chronic_kidney_disease',\n",
       "  'physltc_arthritis',\n",
       "  'physltc_hip_fracture',\n",
       "  'physltc_progressive_neur_disease',\n",
       "  'physltc_copd',\n",
       "  'physltc_pulmonary_fibrosis',\n",
       "  'physltc_asthma',\n",
       "  'physltc_bronchiectasis',\n",
       "  'physltc_epilepsy',\n",
       "  'physltc_osteoporosis',\n",
       "  'physltc_obesity',\n",
       "  'physltc_heart_failure',\n",
       "  'physltc_atrial_fibrillation',\n",
       "  'menltc_alcohol_substance_misuse',\n",
       "  'menltc_psychiatric_disorders',\n",
       "  'menltc_depression',\n",
       "  'physltc_malignant_tumor',\n",
       "  'phys_men_multimorbidity',\n",
       "  'n_unique_conditions',\n",
       "  'is_multimorbid',\n",
       "  'is_complex_multimorbid',\n",
       "  'total_n_presc',\n",
       "  'dsf_acetaminophen',\n",
       "  'n_presc_acetaminophen',\n",
       "  'n_presc_acyclovir',\n",
       "  'n_presc_albuterol_neb_soln',\n",
       "  'n_presc_amlodipine',\n",
       "  'n_presc_apixaban',\n",
       "  'n_presc_aspirin',\n",
       "  'n_presc_atorvastatin',\n",
       "  'n_presc_calcium_carbonate',\n",
       "  'n_presc_carvedilol',\n",
       "  'n_presc_cefepime',\n",
       "  'n_presc_ceftriaxone',\n",
       "  'n_presc_docusate_sodium',\n",
       "  'n_presc_famotidine',\n",
       "  'n_presc_folic_acid',\n",
       "  'n_presc_furosemide',\n",
       "  'n_presc_gabapentin',\n",
       "  'n_presc_heparin',\n",
       "  'n_presc_hydralazine',\n",
       "  'n_presc_hydromorphone_dilaudid',\n",
       "  'n_presc_insulin',\n",
       "  'n_presc_ipratropium_albuterol_neb',\n",
       "  'n_presc_lactulose',\n",
       "  'n_presc_levetiracetam',\n",
       "  'n_presc_levothyroxine_sodium',\n",
       "  'n_presc_lisinopril',\n",
       "  'n_presc_lorazepam',\n",
       "  'n_presc_metoprolol_succinate_xl',\n",
       "  'n_presc_metoprolol_tartrate',\n",
       "  'n_presc_metronidazole',\n",
       "  'n_presc_midodrine',\n",
       "  'n_presc_morphine_sulfate',\n",
       "  'n_presc_multivitamins',\n",
       "  'n_presc_omeprazole',\n",
       "  'n_presc_ondansetron',\n",
       "  'n_presc_oxycodone',\n",
       "  'n_presc_pantoprazole',\n",
       "  'n_presc_piperacillin_tazobactam',\n",
       "  'n_presc_polyethylene_glycol',\n",
       "  'n_presc_potassium_chloride',\n",
       "  'n_presc_prednisone',\n",
       "  'n_presc_rifaximin',\n",
       "  'n_presc_senna',\n",
       "  'n_presc_sevelamer_carbonate',\n",
       "  'n_presc_tacrolimus',\n",
       "  'n_presc_thiamine',\n",
       "  'n_presc_vancomycin',\n",
       "  'n_presc_vitamin_d',\n",
       "  'n_presc_warfarin',\n",
       "  'pon_nutrition',\n",
       "  'pon_cardiology',\n",
       "  'pon_respiratory',\n",
       "  'pon_neurology',\n",
       "  'pon_radiology',\n",
       "  'pon_tpn',\n",
       "  'pon_hemodialysis',\n",
       "  'anchor_age',\n",
       "  'gender_F',\n",
       "  'race_group_Hispanic_Latino',\n",
       "  'race_group_Black',\n",
       "  'race_group_White',\n",
       "  'race_group_Asian',\n",
       "  'race_group_Other',\n",
       "  'marital_status_Married',\n",
       "  'marital_status_Single',\n",
       "  'marital_status_Widowed',\n",
       "  'marital_status_Divorced',\n",
       "  'insurance_Medicare',\n",
       "  'insurance_Medicaid',\n",
       "  'insurance_Private',\n",
       "  'insurance_Other'],\n",
       " 'dynamic0_cols': ['Diastolic blood pressure',\n",
       "  'Heart rate',\n",
       "  'Oxygen saturation',\n",
       "  'Respiratory rate',\n",
       "  'Systolic blood pressure',\n",
       "  'Temperature'],\n",
       " 'notes_cols': ['sentence', 'embedding'],\n",
       " 'dynamic1_cols': ['absolute_basophil_count',\n",
       "  'absolute_eosinophil_count',\n",
       "  'absolute_lymphocyte_count',\n",
       "  'absolute_monocyte_count',\n",
       "  'absolute_neutrophil_count',\n",
       "  'alanine_aminotransferase_(alt)',\n",
       "  'albumin',\n",
       "  'alkaline_phosphatase',\n",
       "  'anion_gap',\n",
       "  'asparate_aminotransferase_(ast)',\n",
       "  'base_excess',\n",
       "  'basophils',\n",
       "  'bicarbonate',\n",
       "  'bilirubin_total',\n",
       "  'calcium_total',\n",
       "  'calculated_total_co2',\n",
       "  'chloride',\n",
       "  'creatinine',\n",
       "  'eosinophils',\n",
       "  'glucose',\n",
       "  'hematocrit',\n",
       "  'hemoglobin',\n",
       "  'immature_granulocytes',\n",
       "  'lactate',\n",
       "  'lactate_dehydrogenase_(ld)',\n",
       "  'lymphocytes',\n",
       "  'magnesium',\n",
       "  'mch',\n",
       "  'mchc',\n",
       "  'mcv',\n",
       "  'monocytes',\n",
       "  'neutrophils',\n",
       "  'pco2',\n",
       "  'ph',\n",
       "  'phosphate',\n",
       "  'platelet_count',\n",
       "  'po2',\n",
       "  'potassium',\n",
       "  'pt',\n",
       "  'ptt',\n",
       "  'rbc',\n",
       "  'rdw',\n",
       "  'rdw-sd',\n",
       "  'red_blood_cells',\n",
       "  'sodium',\n",
       "  'specific_gravity',\n",
       "  'urea_nitrogen',\n",
       "  'wbc',\n",
       "  'white_blood_cells']}"
      ]
     },
     "execution_count": 7,
     "metadata": {},
     "output_type": "execute_result"
    }
   ],
   "source": [
    "cols"
   ]
  },
  {
   "cell_type": "code",
   "execution_count": null,
   "metadata": {},
   "outputs": [],
   "source": [
    "embeddings[10000032]['notes'][0]"
   ]
  },
  {
   "cell_type": "code",
   "execution_count": null,
   "metadata": {},
   "outputs": [],
   "source": [
    "for attr_i in range(len(cols['notes_cols'])):\n",
    "    for i in range(len(embeddings[16486866]['notes'])):\n",
    "        print(f\"Note:{embeddings[16486866]['notes'][i][0]}, Score:{embeddings[16486866]['notes'][i][1]}\")"
   ]
  },
  {
   "cell_type": "code",
   "execution_count": null,
   "metadata": {},
   "outputs": [],
   "source": [
    "for attr_i in range(len(cols['dynamic1_cols'])):\n",
    "    for i in range(len(embeddings[16486866]['dynamic_1'])):\n",
    "        if 'creatinine' in cols['dynamic1_cols'][attr_i]:\n",
    "            print(f\"Col:{cols['dynamic1_cols'][attr_i]}={embeddings[16486866]['dynamic_1'][i][attr_i]}\")"
   ]
  },
  {
   "cell_type": "code",
   "execution_count": null,
   "metadata": {},
   "outputs": [],
   "source": [
    "for attr_i in range(len(cols['dynamic0_cols'])):\n",
    "    for i in range(len(embeddings[16486866]['dynamic_0'])):\n",
    "        print(f\"Col:{cols['dynamic0_cols'][attr_i]}={embeddings[16486866]['dynamic_0'][i][attr_i]}\")"
   ]
  },
  {
   "cell_type": "code",
   "execution_count": null,
   "metadata": {},
   "outputs": [],
   "source": [
    "for attr_i in range(len(cols['static_cols'])):\n",
    "    print(f\"Col:{cols['static_cols'][attr_i]}={embeddings[16486866]['static'][0][attr_i]}\")\n"
   ]
  },
  {
   "cell_type": "markdown",
   "metadata": {},
   "source": [
    "#### Recode some of the embeddings"
   ]
  },
  {
   "cell_type": "code",
   "execution_count": null,
   "metadata": {},
   "outputs": [],
   "source": [
    "for id_val in embeddings.keys():\n",
    "    embeddings[id_val]['static'] = emb_new[id_val]['static']\n",
    "    embeddings[id_val]['dynamic_0'] = emb_new[id_val]['dynamic_0']\n",
    "    embeddings[id_val]['dynamic_1'] = emb_new[id_val]['dynamic_1']\n",
    "    embeddings[id_val]['in_hosp_death'] = emb_new[id_val]['in_hosp_death']\n",
    "    embeddings[id_val]['ext_stay_7'] = emb_new[id_val]['ext_stay_7']\n",
    "    embeddings[id_val]['icu_admission'] = emb_new[id_val]['icu_admission']\n",
    "    embeddings[id_val]['non_home_discharge'] = emb_new[id_val]['non_home_discharge']"
   ]
  },
  {
   "cell_type": "code",
   "execution_count": null,
   "metadata": {},
   "outputs": [],
   "source": [
    "with open(os.path.join(\"../outputs/processed_data\", \"mmfair_feat.pkl\"), \"wb\") as f:\n",
    "        pickle.dump(embeddings, f)"
   ]
  },
  {
   "cell_type": "code",
   "execution_count": null,
   "metadata": {},
   "outputs": [],
   "source": [
    "extr_list = []\n",
    "for item in embeddings[id_val]['notes']:\n",
    "    extr_list.append(item[1])\n",
    "print(extr_list)"
   ]
  },
  {
   "cell_type": "code",
   "execution_count": null,
   "metadata": {},
   "outputs": [],
   "source": [
    "embeddings[10000032]['static'].shape[1]"
   ]
  },
  {
   "cell_type": "code",
   "execution_count": null,
   "metadata": {},
   "outputs": [],
   "source": [
    "embeddings[list(embeddings.keys())[-1]]"
   ]
  },
  {
   "cell_type": "code",
   "execution_count": null,
   "metadata": {},
   "outputs": [],
   "source": [
    "list(embeddings.keys())"
   ]
  },
  {
   "cell_type": "code",
   "execution_count": null,
   "metadata": {},
   "outputs": [],
   "source": [
    "embeddings[list(embeddings.keys())[0]].keys()"
   ]
  },
  {
   "cell_type": "code",
   "execution_count": null,
   "metadata": {},
   "outputs": [],
   "source": [
    "[key for key in embeddings[list(embeddings.keys())[0]].keys() if \"dynamic\" in key]"
   ]
  },
  {
   "cell_type": "markdown",
   "metadata": {},
   "source": [
    "#### Test training IDs"
   ]
  },
  {
   "cell_type": "code",
   "execution_count": null,
   "metadata": {},
   "outputs": [],
   "source": [
    "train_hosp_death = pd.read_csv('../outputs/prep_data/training_ids_in_hosp_death.csv')\n",
    "val_hosp_death = pd.read_csv('../outputs/prep_data/validation_ids_in_hosp_death.csv')\n",
    "test_hosp_death = pd.read_csv('../outputs/prep_data/testing_ids_in_hosp_death.csv')"
   ]
  },
  {
   "cell_type": "code",
   "execution_count": null,
   "metadata": {},
   "outputs": [],
   "source": [
    "train_icu = pd.read_csv('../outputs/prep_data/training_ids_icu_admission.csv')"
   ]
  },
  {
   "cell_type": "code",
   "execution_count": null,
   "metadata": {},
   "outputs": [],
   "source": [
    "overlap = set(train_icu['subject_id']).intersection(set(train_hosp_death['subject_id']))\n",
    "print(len(overlap))"
   ]
  },
  {
   "cell_type": "code",
   "execution_count": null,
   "metadata": {},
   "outputs": [],
   "source": [
    "emb_ids = list(embeddings.keys())\n",
    "overlap = set(emb_ids).intersection(set(train_hosp_death['subject_id']))\n",
    "overlapv = set(emb_ids).intersection(set(val_hosp_death['subject_id']))\n",
    "overlapt = set(emb_ids).intersection(set(test_hosp_death['subject_id']))\n",
    "print(len(overlap), len(overlapv), len(overlapt), len(train_hosp_death), len(embeddings.keys()))"
   ]
  }
 ],
 "metadata": {
  "kernelspec": {
   "display_name": ".venv",
   "language": "python",
   "name": "python3"
  },
  "language_info": {
   "codemirror_mode": {
    "name": "ipython",
    "version": 3
   },
   "file_extension": ".py",
   "mimetype": "text/x-python",
   "name": "python",
   "nbconvert_exporter": "python",
   "pygments_lexer": "ipython3",
   "version": "3.10.11"
  }
 },
 "nbformat": 4,
 "nbformat_minor": 2
}
