{
 "cells": [
  {
   "cell_type": "code",
   "execution_count": 1,
   "metadata": {},
   "outputs": [],
   "source": [
    "import pandas as pd\n",
    "import polars as pl\n",
    "import numpy as np\n",
    "import os\n",
    "import pickle"
   ]
  },
  {
   "cell_type": "markdown",
   "metadata": {},
   "source": [
    "#### Basic overview of generated embedding .pkl file"
   ]
  },
  {
   "cell_type": "code",
   "execution_count": 2,
   "metadata": {},
   "outputs": [],
   "source": [
    "def load_pickle(filepath: str):\n",
    "    \"\"\"Load a pickled object.\n",
    "\n",
    "    Args:\n",
    "        filepath (str): Path to pickle (.pkl) file.\n",
    "\n",
    "    Returns:\n",
    "        Any: Loaded object.\n",
    "    \"\"\"\n",
    "    with open(filepath, \"rb\") as f:\n",
    "        data = pickle.load(f)\n",
    "    return data\n",
    "\n",
    "def save_pickle(target: dict, filepath: str, fname: str = \"mm_feat.pkl\"):\n",
    "    \"\"\"Save a pickled object from a dictionary.\n",
    "\n",
    "    Args:\n",
    "        filepath (str): Path to pickle (.pkl) file.\n",
    "\n",
    "    Returns:\n",
    "        Any: Loaded object.\n",
    "    \"\"\"\n",
    "    with open(os.path.join(filepath, fname), \"wb\") as f:\n",
    "        pickle.dump(target, f)"
   ]
  },
  {
   "cell_type": "markdown",
   "metadata": {},
   "source": [
    "#### Replace EHR data"
   ]
  },
  {
   "cell_type": "code",
   "execution_count": 66,
   "metadata": {},
   "outputs": [],
   "source": [
    "emb_old = load_pickle(\"../../mm-cp/outputs/processed_data/mmfair_feat.pkl\")\n",
    "embeddings = load_pickle(\"../outputs/prep_data/mmfair_feat.pkl\")\n",
    "cols = load_pickle(\"../outputs/prep_data/mmfair_cols.pkl\")"
   ]
  },
  {
   "cell_type": "code",
   "execution_count": 126,
   "metadata": {},
   "outputs": [
    {
     "name": "stdout",
     "output_type": "stream",
     "text": [
      "20596 20597\n"
     ]
    }
   ],
   "source": [
    "print(len(embeddings.keys()), len(emb_old.keys()))"
   ]
  },
  {
   "cell_type": "code",
   "execution_count": 127,
   "metadata": {},
   "outputs": [
    {
     "name": "stdout",
     "output_type": "stream",
     "text": [
      "20596 20597\n",
      "0\n",
      "1\n"
     ]
    }
   ],
   "source": [
    "print(len(embeddings.keys()), len(emb_old.keys()))\n",
    "### Get keys in embeddings but not in embeddings_old\n",
    "keys = set(embeddings.keys()) - set(emb_old.keys())\n",
    "print(len(keys))\n",
    "### Get keys in embeddings_old but not in embeddings\n",
    "keys = set(emb_old.keys()) - set(embeddings.keys())\n",
    "print(len(keys))"
   ]
  },
  {
   "cell_type": "code",
   "execution_count": 128,
   "metadata": {},
   "outputs": [
    {
     "data": {
      "text/plain": [
       "array([[ 54.71428571,  88.        ,  98.14285714,  18.14285714,\n",
       "         95.57142857,  27.34285714],\n",
       "       [ 48.        ,  97.66666667,  98.        ,  17.33333333,\n",
       "         86.        ,  65.43333333],\n",
       "       [ 49.5       ,  96.        ,  99.75      ,  18.5       ,\n",
       "         87.5       ,  -1.        ],\n",
       "       [ 55.2       , 104.        ,  99.4       ,  18.4       ,\n",
       "         98.4       ,  19.02      ],\n",
       "       [ 43.75      ,  79.        ,  74.5       ,  14.5       ,\n",
       "         73.        ,  73.1       ]])"
      ]
     },
     "execution_count": 128,
     "metadata": {},
     "output_type": "execute_result"
    }
   ],
   "source": [
    "emb_old[10296921]['dynamic_0']"
   ]
  },
  {
   "cell_type": "code",
   "execution_count": 129,
   "metadata": {},
   "outputs": [
    {
     "data": {
      "text/plain": [
       "array([[ 54.71428571,  88.        ,  98.14285714,  18.14285714,\n",
       "         95.57142857,  27.34285714],\n",
       "       [ 48.        ,  97.66666667,  98.        ,  17.33333333,\n",
       "         86.        ,  65.43333333],\n",
       "       [ 49.5       ,  96.        ,  99.75      ,  18.5       ,\n",
       "         87.5       ,  -1.        ],\n",
       "       [ 55.2       , 104.        ,  99.4       ,  18.4       ,\n",
       "         98.4       ,  19.02      ],\n",
       "       [ 43.75      ,  79.        ,  74.5       ,  14.5       ,\n",
       "         73.        ,  73.1       ]])"
      ]
     },
     "execution_count": 129,
     "metadata": {},
     "output_type": "execute_result"
    }
   ],
   "source": [
    "embeddings[10296921]['dynamic_0']"
   ]
  },
  {
   "cell_type": "code",
   "execution_count": 130,
   "metadata": {},
   "outputs": [],
   "source": [
    "for pt_key in embeddings.keys():\n",
    "    embeddings[pt_key]['notes'] = emb_old[pt_key]['notes']\n",
    "    #embeddings[pt_key]['static'] = np.array(embeddings[pt_key]['static']).reshape(1, -1)"
   ]
  },
  {
   "cell_type": "code",
   "execution_count": 131,
   "metadata": {},
   "outputs": [
    {
     "data": {
      "text/plain": [
       "(100, 1)"
      ]
     },
     "execution_count": 131,
     "metadata": {},
     "output_type": "execute_result"
    }
   ],
   "source": [
    "len(cols['static_cols']), len(embeddings[10296921]['static'])"
   ]
  },
  {
   "cell_type": "code",
   "execution_count": 132,
   "metadata": {},
   "outputs": [],
   "source": [
    "### Correct and export the embeddings\n",
    "save_pickle(embeddings, \"../outputs/prep_data\", \"mmfair_feat.pkl\")"
   ]
  },
  {
   "cell_type": "code",
   "execution_count": 10,
   "metadata": {},
   "outputs": [
    {
     "data": {
      "text/plain": [
       "{'static': array([0.00000000e+00, 0.00000000e+00, 1.00000000e+00, 0.00000000e+00,\n",
       "        0.00000000e+00, 0.00000000e+00, 0.00000000e+00, 0.00000000e+00,\n",
       "        0.00000000e+00, 0.00000000e+00, 0.00000000e+00, 0.00000000e+00,\n",
       "        0.00000000e+00, 0.00000000e+00, 0.00000000e+00, 0.00000000e+00,\n",
       "        0.00000000e+00, 0.00000000e+00, 0.00000000e+00, 0.00000000e+00,\n",
       "        0.00000000e+00, 0.00000000e+00, 0.00000000e+00, 0.00000000e+00,\n",
       "        0.00000000e+00, 0.00000000e+00, 5.88235294e-02, 0.00000000e+00,\n",
       "        0.00000000e+00, 4.39024390e-01, 3.05466238e-02, 0.00000000e+00,\n",
       "        0.00000000e+00, 0.00000000e+00, 0.00000000e+00, 3.14465409e-03,\n",
       "        0.00000000e+00, 2.91545190e-03, 0.00000000e+00, 0.00000000e+00,\n",
       "        0.00000000e+00, 0.00000000e+00, 0.00000000e+00, 0.00000000e+00,\n",
       "        1.49892934e-02, 0.00000000e+00, 6.33893920e-02, 0.00000000e+00,\n",
       "        7.63358779e-03, 8.98709037e-02, 1.66666667e-03, 0.00000000e+00,\n",
       "        0.00000000e+00, 0.00000000e+00, 2.73224044e-02, 0.00000000e+00,\n",
       "        0.00000000e+00, 6.53710247e-02, 3.70967742e-01, 0.00000000e+00,\n",
       "        7.26392252e-03, 0.00000000e+00, 0.00000000e+00, 3.13588850e-02,\n",
       "        4.59770115e-03, 8.08678501e-02, 0.00000000e+00, 0.00000000e+00,\n",
       "        6.41025641e-03, 0.00000000e+00, 0.00000000e+00, 0.00000000e+00,\n",
       "        0.00000000e+00, 0.00000000e+00, 2.93040293e-02, 1.93023256e-01,\n",
       "        0.00000000e+00, 0.00000000e+00, 1.16972477e-01, 3.64583333e-02,\n",
       "        1.54518950e-01, 3.71747212e-03, 0.00000000e+00, 0.00000000e+00,\n",
       "        0.00000000e+00, 6.00000000e+01, 1.00000000e+00, 0.00000000e+00,\n",
       "        1.00000000e+00, 0.00000000e+00, 0.00000000e+00, 0.00000000e+00,\n",
       "        1.00000000e+00, 0.00000000e+00, 0.00000000e+00, 0.00000000e+00,\n",
       "        0.00000000e+00, 1.00000000e+00, 0.00000000e+00, 0.00000000e+00]),\n",
       " 'in_hosp_death': array([[0]], dtype=int8),\n",
       " 'ext_stay_7': array([[0]], dtype=int8),\n",
       " 'non_home_discharge': array([[0]], dtype=int8),\n",
       " 'icu_admission': array([[0]], dtype=int8),\n",
       " 'dynamic_0': array([[ 44. ,  89. ,  96. ,  20. ,  82. ,  97.2],\n",
       "        [ 55. ,  84. ,  98. ,  18. ,  99. ,  -1. ],\n",
       "        [ 48. ,  85. ,  98. ,  15. ,  89. ,  -1. ],\n",
       "        [ 59. ,  86. ,  97. ,  21. ,  95. ,  -1. ],\n",
       "        [ 60. ,  88. ,  99. ,  19. , 102. ,  -1. ],\n",
       "        [ 53. ,  88. , 100. ,  18. ,  94. ,  -1. ],\n",
       "        [ 64. ,  96. ,  99. ,  16. , 108. ,  99.2],\n",
       "        [ 42. ,  94. ,  97. ,  18. ,  81. ,  -1. ],\n",
       "        [ 50. , 101. ,  98. ,  16. ,  92. ,  98.8],\n",
       "        [ 52. ,  98. ,  99. ,  18. ,  85. ,  98.5],\n",
       "        [ 53. ,  92. , 100. ,  18. ,  96. ,  -1. ],\n",
       "        [ 53. ,  99. , 100. ,  18. ,  84. ,  -1. ],\n",
       "        [ 52. ,  96. , 100. ,  18. ,  88. ,  -1. ],\n",
       "        [ 40. ,  97. ,  99. ,  20. ,  82. ,  -1. ],\n",
       "        [ 52. , 101. , 100. ,  19. , 105. ,  -1. ],\n",
       "        [ 61. , 106. , 100. ,  18. , 104. ,  -1. ],\n",
       "        [ 51. , 101. ,  99. ,  20. ,  92. ,  -1. ],\n",
       "        [ 62. , 111. ,  99. ,  18. ,  98. ,  -1. ],\n",
       "        [ 50. , 101. ,  99. ,  17. ,  93. ,  99.1],\n",
       "        [ 52. , 102. ,  99. ,  20. ,  92. ,  -1. ],\n",
       "        [ -1. ,  -1. ,  -1. ,  -1. ,  -1. ,  97.8],\n",
       "        [ 60. , 108. , 100. ,  21. ,  99. ,  97.8],\n",
       "        [ 64. , 107. , 100. ,  18. , 102. ,  97.8]]),\n",
       " 'dynamic_1': array([[ 0.03,  0.  ,  2.02, ...,  8.  , -1.  , 21.8 ],\n",
       "        [-1.  , -1.  , -1.  , ..., -1.  ,  6.  , -1.  ],\n",
       "        [ 0.  ,  0.  ,  1.17, ...,  5.  , -1.  , 11.7 ],\n",
       "        ...,\n",
       "        [-1.  , -1.  , -1.  , ...,  3.  , -1.  , -1.  ],\n",
       "        [-1.  , -1.  , -1.  , ...,  4.  , -1.  ,  6.2 ],\n",
       "        [-1.  , -1.  , -1.  , ...,  6.  , -1.  ,  5.6 ]]),\n",
       " 'notes': [('On , Ms. was admitted from rehab through the Emergency department for hypotension and leukocytosis with left shift.',\n",
       "   0.09014776),\n",
       "  ('She did not have any N/V, fever/Chills, abdominal pain, SOB/CP or any other complaints.',\n",
       "   0.17725863),\n",
       "  (\"Neuro: Patient's pain was controlled with PO pain meds throughout the hospital stay.\",\n",
       "   -0.012125796),\n",
       "  ('ID: On , CT demonstrated a pancreatico-colonic fistula and large walled off pancreatic necrosis.',\n",
       "   0.004356633),\n",
       "  ('Ms. was WBC 11.7, and her tube feeds and lovenox were held for drain placement.',\n",
       "   0.0898762),\n",
       "  ('Afterwards her tube feeds were restarted.', -0.09562372),\n",
       "  ('On , Ms. triggered for hypotension, and so she received fluids and was started on IV levo/flagyl, WBC 9.0.',\n",
       "   -0.16544768),\n",
       "  ('On , she had a PICC placed for IV antibiotics.', 0.074830696),\n",
       "  ('On , ID was reconsulted for antibiotic recommendations, Ms. was started on PO linezolid/levofloxacin/flagyl/fluconazole.',\n",
       "   -0.030113785),\n",
       "  ('Recommendation was to keep her on PO antibiotics unless the patient was not tolerating PO.',\n",
       "   0.12903963),\n",
       "  ('She completed her antibiotic treatment on , she will continue on PO Vancomycin for C-diff infection until .',\n",
       "   0.0061714565),\n",
       "  ('drain was replaced on .', 0.10763841),\n",
       "  ('Repeat CT on demonstrated resolved colonic fistula, and decreased soze of walled off pancreatic necrosis.',\n",
       "   -0.41144028),\n",
       "  ('Patient remained afebrile with WBC within normal limits prior to discharge.',\n",
       "   0.24210423),\n",
       "  ('Cardiovascular: Ms. was admitted for hypotension.', -0.11101667),\n",
       "  ('On , she triggered for SBP 80/40, HR 88.', 0.010154425),\n",
       "  ('Her SBP recovered with 1L LR.', -0.12671569),\n",
       "  ('On , Ms. was started on half of her home dose of atenolol for asymptomatic stable sinus tachycardia with stable SBP and .',\n",
       "   -0.05011763),\n",
       "  ('She also received 1L LR bolus.', -0.05726933),\n",
       "  (\"The patient's blood pressure improved, she was restarted on home dose Atenolol prior to discharge.\",\n",
       "   -0.06128276),\n",
       "  ('GI: On , Ms. tube feeds were held for drain placement, afterwards feeds were restarted.',\n",
       "   -0.028368823),\n",
       "  ('She was continued on NJT tube feeds and clears diet, which she tolerated.',\n",
       "   -0.093745716),\n",
       "  ('On , was consulted for uncontrolled FSBG to increase her AM lantus, and she was started on standing regular insulin q6 hours.',\n",
       "   -0.19122215),\n",
       "  ('On , Ms. had a bowel movement with small amount of blood, she appeared comfortable, and stable, she was given a 500cc bolus.',\n",
       "   0.09854796),\n",
       "  ('On , she had multiple more bloody bowel movements, she continued to remain hemodynamically stable and receive 1L bolus.',\n",
       "   -0.063379206),\n",
       "  ('Her AM and Hct remained stable, type/screen were sent.', -0.15255548),\n",
       "  ('CTA demonstrated no active extravasation.', 0.18717802),\n",
       "  ('On , she had one bout of emesis, threw up meds, no hemorrhoids seen, 6BMs guaiac positive, 500cc bolus.',\n",
       "   0.48168534),\n",
       "  (\"Patient's Hct remained stable and no blood transfusions were required during hospitalization.\",\n",
       "   -0.0783962),\n",
       "  ('On , her NJT was clogged and had to be removed.', 0.19061457),\n",
       "  ('NGT was replaced on and TF was resumed.', -0.011536467),\n",
       "  ('On patient underwent laparoscopic-assisted loop ileostomy creation.',\n",
       "   0.070124686),\n",
       "  ('On POD 1, Lovenox and tubefeeds were restarted.', 0.021802),\n",
       "  ('Patient was noticed to have some blood clots her drain, HCT was stable.',\n",
       "   -0.06092659),\n",
       "  ('CTA was obtained and was negative for active extravasation or pseudoaneurysm.',\n",
       "   0.08329471),\n",
       "  ('Heme: No blood transfusions were required during admission.', 0.1247295),\n",
       "  ('Continue Lovenox for DVT treatment.', 0.08483209),\n",
       "  ('HCT stable low, secondary to chronic disease anemia.', 0.08958643),\n",
       "  ('GU: , Ms. was difficult to monitor due to her incontinence and C dif which resulted mixed stool.',\n",
       "   -0.02893589),\n",
       "  ('On , she was continued on IVF and had a Foley placed to monitor more closely.',\n",
       "   0.16214852),\n",
       "  ('FENa was calculated to be 0.3% (pre-renal).', 0.10920866),\n",
       "  ('Fluid status improved with IVF and TF, Foley was removed and patient voiding without any difficulties.',\n",
       "   -0.0029347492),\n",
       "  ('At the time of discharge, the patient was doing well, afebrile with stable vital signs.',\n",
       "   0.03841104),\n",
       "  ('The patient was tolerating clear liquid diet and tubefeed at goal, ambulating with walker and assist , voiding without assistance, and pain was well controlled.',\n",
       "   -0.13930634),\n",
       "  ('The patient received discharge teaching and follow-up instructions with understanding verbalized and agreement with the discharge plan.',\n",
       "   -0.021096371)]}"
      ]
     },
     "execution_count": 10,
     "metadata": {},
     "output_type": "execute_result"
    }
   ],
   "source": [
    "embeddings[10296921]"
   ]
  },
  {
   "cell_type": "code",
   "execution_count": 7,
   "metadata": {},
   "outputs": [
    {
     "data": {
      "text/plain": [
       "{'static': array([[  0,   0,   1,   0,   0,   0,   0,   0,   0,   0,   0,   0,   0,\n",
       "           0,   0,   0,   0,   0,   0,   0,   0,   0,   0,   0,   0,   0,\n",
       "           1,   0,   0,  18, 136,  19,   0,   0,   0,   0,   1,   0,   1,\n",
       "           0,   0,   0,   0,   0,   0,   7,   0,  49,   0,  15, 181,   1,\n",
       "           0,   0,   0,   5,   0,   0,  37,  69,   0,   3,   0,   0,   9,\n",
       "           4,  41,   0,   0,   2,   0,   0,   0,   0,   0,   8,  83,   0,\n",
       "           0,  51,   1,   7,   0,  53,   0,   0,  60,   1,   0,   1,   0,\n",
       "           0,   0,   1,   0,   0,   0,   0,   1,   0,   0]], dtype=int64),\n",
       " 'in_hosp_death': array([[0]], dtype=int8),\n",
       " 'ext_stay_7': array([[0]], dtype=int8),\n",
       " 'non_home_discharge': array([[0]], dtype=int8),\n",
       " 'icu_admission': array([[0]], dtype=int8),\n",
       " 'dynamic_0': array([[ 54.71428571,  88.        ,  98.14285714,  18.14285714,\n",
       "          95.57142857,  27.34285714],\n",
       "        [ 48.        ,  97.66666667,  98.        ,  17.33333333,\n",
       "          86.        ,  65.43333333],\n",
       "        [ 49.5       ,  96.        ,  99.75      ,  18.5       ,\n",
       "          87.5       ,  -1.        ],\n",
       "        [ 55.2       , 104.        ,  99.4       ,  18.4       ,\n",
       "          98.4       ,  19.02      ],\n",
       "        [ 43.75      ,  79.        ,  74.5       ,  14.5       ,\n",
       "          73.        ,  73.1       ]]),\n",
       " 'dynamic_1': array([[-0.485, -0.5  ,  0.51 , ...,  3.5  ,  2.5  , 10.4  ],\n",
       "        [-0.485, -0.5  ,  0.51 , ...,  3.5  ,  2.5  , 10.4  ],\n",
       "        [-0.485, -0.5  ,  0.51 , ...,  3.5  ,  2.5  , 10.4  ],\n",
       "        ...,\n",
       "        [-1.   , -1.   , -1.   , ...,  4.   , -1.   ,  6.2  ],\n",
       "        [-1.   , -1.   , -1.   , ...,  4.   , -1.   ,  6.2  ],\n",
       "        [-1.   , -1.   , -1.   , ...,  6.   , -1.   ,  5.6  ]]),\n",
       " 'notes': [('On , Ms. was admitted from rehab through the Emergency department for hypotension and leukocytosis with left shift.',\n",
       "   0.09014776),\n",
       "  ('She did not have any N/V, fever/Chills, abdominal pain, SOB/CP or any other complaints.',\n",
       "   0.17725863),\n",
       "  (\"Neuro: Patient's pain was controlled with PO pain meds throughout the hospital stay.\",\n",
       "   -0.012125796),\n",
       "  ('ID: On , CT demonstrated a pancreatico-colonic fistula and large walled off pancreatic necrosis.',\n",
       "   0.004356633),\n",
       "  ('Ms. was WBC 11.7, and her tube feeds and lovenox were held for drain placement.',\n",
       "   0.0898762),\n",
       "  ('Afterwards her tube feeds were restarted.', -0.09562372),\n",
       "  ('On , Ms. triggered for hypotension, and so she received fluids and was started on IV levo/flagyl, WBC 9.0.',\n",
       "   -0.16544768),\n",
       "  ('On , she had a PICC placed for IV antibiotics.', 0.074830696),\n",
       "  ('On , ID was reconsulted for antibiotic recommendations, Ms. was started on PO linezolid/levofloxacin/flagyl/fluconazole.',\n",
       "   -0.030113785),\n",
       "  ('Recommendation was to keep her on PO antibiotics unless the patient was not tolerating PO.',\n",
       "   0.12903963),\n",
       "  ('She completed her antibiotic treatment on , she will continue on PO Vancomycin for C-diff infection until .',\n",
       "   0.0061714565),\n",
       "  ('drain was replaced on .', 0.10763841),\n",
       "  ('Repeat CT on demonstrated resolved colonic fistula, and decreased soze of walled off pancreatic necrosis.',\n",
       "   -0.41144028),\n",
       "  ('Patient remained afebrile with WBC within normal limits prior to discharge.',\n",
       "   0.24210423),\n",
       "  ('Cardiovascular: Ms. was admitted for hypotension.', -0.11101667),\n",
       "  ('On , she triggered for SBP 80/40, HR 88.', 0.010154425),\n",
       "  ('Her SBP recovered with 1L LR.', -0.12671569),\n",
       "  ('On , Ms. was started on half of her home dose of atenolol for asymptomatic stable sinus tachycardia with stable SBP and .',\n",
       "   -0.05011763),\n",
       "  ('She also received 1L LR bolus.', -0.05726933),\n",
       "  (\"The patient's blood pressure improved, she was restarted on home dose Atenolol prior to discharge.\",\n",
       "   -0.06128276),\n",
       "  ('GI: On , Ms. tube feeds were held for drain placement, afterwards feeds were restarted.',\n",
       "   -0.028368823),\n",
       "  ('She was continued on NJT tube feeds and clears diet, which she tolerated.',\n",
       "   -0.093745716),\n",
       "  ('On , was consulted for uncontrolled FSBG to increase her AM lantus, and she was started on standing regular insulin q6 hours.',\n",
       "   -0.19122215),\n",
       "  ('On , Ms. had a bowel movement with small amount of blood, she appeared comfortable, and stable, she was given a 500cc bolus.',\n",
       "   0.09854796),\n",
       "  ('On , she had multiple more bloody bowel movements, she continued to remain hemodynamically stable and receive 1L bolus.',\n",
       "   -0.063379206),\n",
       "  ('Her AM and Hct remained stable, type/screen were sent.', -0.15255548),\n",
       "  ('CTA demonstrated no active extravasation.', 0.18717802),\n",
       "  ('On , she had one bout of emesis, threw up meds, no hemorrhoids seen, 6BMs guaiac positive, 500cc bolus.',\n",
       "   0.48168534),\n",
       "  (\"Patient's Hct remained stable and no blood transfusions were required during hospitalization.\",\n",
       "   -0.0783962),\n",
       "  ('On , her NJT was clogged and had to be removed.', 0.19061457),\n",
       "  ('NGT was replaced on and TF was resumed.', -0.011536467),\n",
       "  ('On patient underwent laparoscopic-assisted loop ileostomy creation.',\n",
       "   0.070124686),\n",
       "  ('On POD 1, Lovenox and tubefeeds were restarted.', 0.021802),\n",
       "  ('Patient was noticed to have some blood clots her drain, HCT was stable.',\n",
       "   -0.06092659),\n",
       "  ('CTA was obtained and was negative for active extravasation or pseudoaneurysm.',\n",
       "   0.08329471),\n",
       "  ('Heme: No blood transfusions were required during admission.', 0.1247295),\n",
       "  ('Continue Lovenox for DVT treatment.', 0.08483209),\n",
       "  ('HCT stable low, secondary to chronic disease anemia.', 0.08958643),\n",
       "  ('GU: , Ms. was difficult to monitor due to her incontinence and C dif which resulted mixed stool.',\n",
       "   -0.02893589),\n",
       "  ('On , she was continued on IVF and had a Foley placed to monitor more closely.',\n",
       "   0.16214852),\n",
       "  ('FENa was calculated to be 0.3% (pre-renal).', 0.10920866),\n",
       "  ('Fluid status improved with IVF and TF, Foley was removed and patient voiding without any difficulties.',\n",
       "   -0.0029347492),\n",
       "  ('At the time of discharge, the patient was doing well, afebrile with stable vital signs.',\n",
       "   0.03841104),\n",
       "  ('The patient was tolerating clear liquid diet and tubefeed at goal, ambulating with walker and assist , voiding without assistance, and pain was well controlled.',\n",
       "   -0.13930634),\n",
       "  ('The patient received discharge teaching and follow-up instructions with understanding verbalized and agreement with the discharge plan.',\n",
       "   -0.021096371)]}"
      ]
     },
     "execution_count": 7,
     "metadata": {},
     "output_type": "execute_result"
    }
   ],
   "source": [
    "emb_old[10296921]"
   ]
  },
  {
   "cell_type": "code",
   "execution_count": 19,
   "metadata": {},
   "outputs": [
    {
     "name": "stdout",
     "output_type": "stream",
     "text": [
      "Col:physltc_abd_aortic_aneurysm: 0.0\n",
      "Col:physltc_ischaemic_heart_disease: 0.0\n",
      "Col:physltc_hypertension: 1.0\n",
      "Col:physltc_stroke: 0.0\n",
      "Col:physltc_peripheral_arterial_disease: 0.0\n",
      "Col:physltc_inflammatory_bowel_disease: 0.0\n",
      "Col:physltc_liver_disease: 0.0\n",
      "Col:physltc_diabetes: 0.0\n",
      "Col:physltc_chronic_kidney_disease: 0.0\n",
      "Col:physltc_arthritis: 0.0\n",
      "Col:physltc_hip_fracture: 0.0\n",
      "Col:physltc_progressive_neur_disease: 0.0\n",
      "Col:physltc_copd: 0.0\n",
      "Col:physltc_pulmonary_fibrosis: 0.0\n",
      "Col:physltc_asthma: 0.0\n",
      "Col:physltc_bronchiectasis: 0.0\n",
      "Col:physltc_epilepsy: 0.0\n",
      "Col:physltc_osteoporosis: 0.0\n",
      "Col:physltc_obesity: 0.0\n",
      "Col:physltc_heart_failure: 0.0\n",
      "Col:physltc_atrial_fibrillation: 0.0\n",
      "Col:menltc_alcohol_substance_misuse: 0.0\n",
      "Col:menltc_psychiatric_disorders: 0.0\n",
      "Col:menltc_depression: 0.0\n",
      "Col:physltc_malignant_tumor: 0.0\n",
      "Col:phys_men_multimorbidity: 0.0\n",
      "Col:n_unique_conditions: 0.058823529411764705\n",
      "Col:is_multimorbid: 0.0\n",
      "Col:is_complex_multimorbid: 0.0\n",
      "Col:total_n_presc: 0.43902439024390244\n",
      "Col:n_presc_acetaminophen: 0.03054662379421222\n",
      "Col:n_presc_acyclovir: 0.0\n",
      "Col:n_presc_albuterol_neb_soln: 0.0\n",
      "Col:n_presc_amlodipine: 0.0\n",
      "Col:n_presc_apixaban: 0.0\n",
      "Col:n_presc_aspirin: 0.0031446540880503146\n",
      "Col:n_presc_atorvastatin: 0.0\n",
      "Col:n_presc_calcium_carbonate: 0.0029154518950437317\n",
      "Col:n_presc_carvedilol: 0.0\n",
      "Col:n_presc_cefepime: 0.0\n",
      "Col:n_presc_ceftriaxone: 0.0\n",
      "Col:n_presc_docusate_sodium: 0.0\n",
      "Col:n_presc_famotidine: 0.0\n",
      "Col:n_presc_folic_acid: 0.0\n",
      "Col:n_presc_furosemide: 0.014989293361884369\n",
      "Col:n_presc_gabapentin: 0.0\n",
      "Col:n_presc_heparin: 0.06338939197930143\n",
      "Col:n_presc_hydralazine: 0.0\n",
      "Col:n_presc_hydromorphone_dilaudid: 0.007633587786259542\n",
      "Col:n_presc_insulin: 0.08987090367428004\n",
      "Col:n_presc_ipratropium_albuterol_neb: 0.0016666666666666668\n",
      "Col:n_presc_lactulose: 0.0\n",
      "Col:n_presc_levetiracetam: 0.0\n",
      "Col:n_presc_levothyroxine_sodium: 0.0\n",
      "Col:n_presc_lisinopril: 0.0273224043715847\n",
      "Col:n_presc_lorazepam: 0.0\n",
      "Col:n_presc_metoprolol_succinate_xl: 0.0\n",
      "Col:n_presc_metoprolol_tartrate: 0.06537102473498232\n",
      "Col:n_presc_metronidazole: 0.3709677419354839\n",
      "Col:n_presc_midodrine: 0.0\n",
      "Col:n_presc_morphine_sulfate: 0.007263922518159807\n",
      "Col:n_presc_multivitamins: 0.0\n",
      "Col:n_presc_omeprazole: 0.0\n",
      "Col:n_presc_ondansetron: 0.0313588850174216\n",
      "Col:n_presc_oxycodone: 0.004597701149425287\n",
      "Col:n_presc_pantoprazole: 0.08086785009861934\n",
      "Col:n_presc_piperacillin_tazobactam: 0.0\n",
      "Col:n_presc_polyethylene_glycol: 0.0\n",
      "Col:n_presc_potassium_chloride: 0.00641025641025641\n",
      "Col:n_presc_prednisone: 0.0\n",
      "Col:n_presc_rifaximin: 0.0\n",
      "Col:n_presc_senna: 0.0\n",
      "Col:n_presc_sevelamer_carbonate: 0.0\n",
      "Col:n_presc_tacrolimus: 0.0\n",
      "Col:n_presc_thiamine: 0.029304029304029304\n",
      "Col:n_presc_vancomycin: 0.1930232558139535\n",
      "Col:n_presc_vitamin_d: 0.0\n",
      "Col:n_presc_warfarin: 0.0\n",
      "Col:pon_nutrition: 0.11697247706422019\n",
      "Col:pon_respiratory: 0.03645833333333333\n",
      "Col:pon_radiology: 0.15451895043731778\n",
      "Col:pon_cardiology: 0.0037174721189591076\n",
      "Col:pon_neurology: 0.0\n",
      "Col:pon_hemodialysis: 0.0\n",
      "Col:pon_tpn: 0.0\n",
      "Col:anchor_age: 60.0\n",
      "Col:gender_F: 1.0\n",
      "Col:race_group_Hispanic_Latino: 0.0\n",
      "Col:race_group_Black: 1.0\n",
      "Col:race_group_White: 0.0\n",
      "Col:race_group_Asian: 0.0\n",
      "Col:race_group_Other: 0.0\n",
      "Col:marital_status_Married: 1.0\n",
      "Col:marital_status_Single: 0.0\n",
      "Col:marital_status_Widowed: 0.0\n",
      "Col:marital_status_Divorced: 0.0\n",
      "Col:insurance_Medicare: 0.0\n",
      "Col:insurance_Medicaid: 1.0\n",
      "Col:insurance_Private: 0.0\n",
      "Col:insurance_Other: 0.0\n"
     ]
    }
   ],
   "source": [
    "for i, col in enumerate(cols['static_cols']):\n",
    "    print(f'Col:{col}:', embeddings[10296921]['static'][i])"
   ]
  },
  {
   "cell_type": "markdown",
   "metadata": {},
   "source": [
    "#### Test SHAP values vs embeddings"
   ]
  },
  {
   "cell_type": "code",
   "execution_count": 76,
   "metadata": {},
   "outputs": [],
   "source": [
    "embeddings = load_pickle(\"../outputs/prep_data/mmfair_feat.pkl\")\n",
    "#emb_old = load_pickle(\"../outputs/prev_data/mmfair_feat.pkl\")\n",
    "cols = load_pickle(\"../outputs/prep_data/mmfair_cols.pkl\")\n",
    "test_ids = (pl.read_csv(os.path.join(\"../outputs/prep_data/testing_ids_ext_stay_7.csv\"))\n",
    "        .select(\"subject_id\")\n",
    "        .to_numpy()\n",
    "        .flatten()\n",
    ")"
   ]
  },
  {
   "cell_type": "code",
   "execution_count": 60,
   "metadata": {},
   "outputs": [],
   "source": [
    "shap_embeddings = load_pickle(\"../outputs/explanations/shap_ext_stay_7_concat_static_timeseries_notes.pkl\")"
   ]
  },
  {
   "cell_type": "code",
   "execution_count": 114,
   "metadata": {},
   "outputs": [
    {
     "data": {
      "text/plain": [
       "array(['Mr. is a with newly diagnosed metastatic melanoma who presents to the ER with hematochezia in the setting of Lovenox for PE.',\n",
       "       \"The pt's hct remained stable during admission and he did not require any blood transfusions.\",\n",
       "       'His lovenox was held and once hct stable, a heparin gtt was started.',\n",
       "       'A colonoscopy showed grade 1 internal hemorrhoids with a suspicious lesion on top of a blood vessel.',\n",
       "       'GI was unable to take a sample and recommended Colorectal surgery to evaluate.',\n",
       "       'Dr. pt and did not feel any further intervention would be necessary.',\n",
       "       'Upon further reviewing his CTA from a previous admission, the diagnosis of PE was questionable.',\n",
       "       'Repeat CTA did not show any filling defects concerning for PE.',\n",
       "       'The pt also had negative LENIs.',\n",
       "       \"The pt's L axilla cellulitis was monitored during his stay.\",\n",
       "       'It showed some improvement during admission.',\n",
       "       'He continued his cipro, but his outpt clida was held.',\n",
       "       'During his stay he was on vancomycin instead.',\n",
       "       'The pt was not discharged on any anticoagulation given the negative CTA.',\n",
       "       'He will finish his antibiotic course for the cellulitis.',\n",
       "       'No further intervention was deemed necessary for his internal hemorrhoid.',\n",
       "       'The pt will start taking vemurafinib as an outpt for treatment of his metastatic melanoma.',\n",
       "       '<ENDNOTE> <STARTNOTE> The patient is a with recently diagnosed metastatic melanoma p/w altered mental status.',\n",
       "       'The patient was confused at home and was found after falling down with a bloody nose.',\n",
       "       'A head CT did not show any acute intracranial process, and the patient was admitted for further workup.',\n",
       "       'Labwork was mostly within normal limits.',\n",
       "       'TSH was 2.0, Vit B12 , and lytes WNL.',\n",
       "       'Serum creatinine was initially elevated but trended down to baseline during his stay.',\n",
       "       'Lisinopril was held and not continued at time of discharge.',\n",
       "       'A CBC showed leukocytosis into the , which was considered to be a leukomoid reaction in the setting of melanoma and likely infection.',\n",
       "       'Cultures were negative during his stay.',\n",
       "       'The patient had a cellulitis over a mass located in his left axilla.',\n",
       "       'The area of erythema was closely monitored during his stay.',\n",
       "       'Prior to admission the patient was taking keflex and bactrim, but was switched to IV vancomycin for MRSA coverage.',\n",
       "       'ID was consulted and recommended to add zosyn for a broader coverage.',\n",
       "       'A CT of his torso showed progression of his disease.',\n",
       "       'BRAF mutation was found to be positive, and the patient will eventually start vemurafenib.',\n",
       "       'Discussion of considering debulking of the axillary mass was discussed, but given that treatment is possible with vemurafenib, the hope is that chemo will help to reduce the size of this mass.',\n",
       "       'The patient had several episodes of SVT, as his HR slowly rose during his stay.',\n",
       "       'A CTA was obtained and it showed multiple PEs.',\n",
       "       'The patient was started on a heparin drip and transitioned to lovenox for discharge.',\n",
       "       'The patient was discharged on PO cipro and clinda for possible cellulitis in L axilla.',\n",
       "       'The patient has planned chemotherapy on .'], dtype='<U192')"
      ]
     },
     "execution_count": 114,
     "metadata": {},
     "output_type": "execute_result"
    }
   ],
   "source": [
    "np.array([s[0] for s in embeddings[test_ids[0]]['notes']])"
   ]
  },
  {
   "cell_type": "code",
   "execution_count": 105,
   "metadata": {},
   "outputs": [
    {
     "data": {
      "text/plain": [
       "array([ 0.00436763, -0.00391778,  0.00330271, -0.0194098 ,  0.01326799,\n",
       "        0.01680252, -0.00675936,  0.005708  ,  0.00065508,  0.01530494,\n",
       "       -0.00164558, -0.00809109, -0.01651247, -0.01433522,  0.00644302,\n",
       "        0.00708288,  0.00099566, -0.00491818, -0.00191429,  0.02841609,\n",
       "        0.05630679, -0.00416031, -0.00572818,  0.03297447,  0.00098606,\n",
       "        0.00378409,  0.00800857, -0.03055266, -0.00226472, -0.02937686,\n",
       "       -0.00082784, -0.00816598,  0.00370054, -0.01181747, -0.01016818,\n",
       "        0.02859098,  0.000905  , -0.03852355])"
      ]
     },
     "execution_count": 105,
     "metadata": {},
     "output_type": "execute_result"
    }
   ],
   "source": [
    "shap_embeddings['batch_0']['notes'][0][0][:38].reshape(1,-1)[0]"
   ]
  },
  {
   "cell_type": "code",
   "execution_count": 10,
   "metadata": {},
   "outputs": [
    {
     "data": {
      "text/plain": [
       "array([ 0.00000000e+00, -8.15166568e-04,  1.26605912e-04,  0.00000000e+00,\n",
       "       -2.96295502e-06,  0.00000000e+00,  1.05288382e-04, -3.54676566e-04,\n",
       "       -4.98519919e-04,  1.13543520e-05,  0.00000000e+00, -6.66479464e-04,\n",
       "        3.59657133e-04,  7.51510233e-05, -3.53829178e-04,  0.00000000e+00,\n",
       "        0.00000000e+00, -5.68798336e-04,  9.01999647e-06, -3.04413144e-04,\n",
       "        2.63857772e-04, -1.02046324e-04, -1.69355422e-04,  5.51747042e-04,\n",
       "       -3.26379621e-03,  7.01593643e-04,  2.25180611e-06,  1.51743327e-04,\n",
       "        6.57143188e-04,  1.88233540e-03,  8.89032453e-05,  0.00000000e+00,\n",
       "       -8.48615582e-06, -1.11818608e-05,  2.12390106e-07,  1.42361669e-05,\n",
       "        5.82361918e-06,  1.15077331e-04,  1.09445963e-07,  1.21365392e-05,\n",
       "       -5.81979634e-07, -1.03373808e-04,  1.27577277e-06, -4.25481267e-06,\n",
       "       -7.36381844e-06,  2.27306627e-05, -5.43561328e-05,  0.00000000e+00,\n",
       "        4.22821040e-06,  5.92932429e-06, -2.12125951e-06, -2.53161215e-06,\n",
       "       -8.08021980e-07,  2.84266644e-05,  0.00000000e+00,  7.81832841e-06,\n",
       "       -5.04611853e-06,  1.36257913e-05,  1.08346467e-05,  0.00000000e+00,\n",
       "       -1.50894755e-06,  1.39250560e-05,  2.14514257e-05, -1.79035906e-05,\n",
       "        4.63857896e-06,  3.01135933e-05,  4.85564888e-05,  1.70841504e-05,\n",
       "        1.07147807e-05,  1.04873070e-04,  0.00000000e+00, -1.25339837e-04,\n",
       "        0.00000000e+00,  1.69919622e-05, -6.24009635e-06, -3.53782343e-05,\n",
       "       -1.72175744e-04,  7.07837025e-05, -1.84433375e-05,  1.66388199e-05,\n",
       "       -1.14324532e-04, -9.93413560e-05,  0.00000000e+00,  0.00000000e+00,\n",
       "       -2.16219587e-06,  4.61509422e-04,  9.26600304e-04, -2.88936758e-06,\n",
       "        1.46283244e-04,  6.37925812e-04,  1.39525509e-05,  0.00000000e+00,\n",
       "       -1.84388307e-03, -2.79614615e-04, -1.06902979e-03, -1.01021908e-06,\n",
       "       -6.01753243e-04,  0.00000000e+00,  8.83833709e-05,  0.00000000e+00])"
      ]
     },
     "execution_count": 10,
     "metadata": {},
     "output_type": "execute_result"
    }
   ],
   "source": [
    "shap_embeddings['batch_0']['static'][0].reshape(1, -1)[0]"
   ]
  },
  {
   "cell_type": "code",
   "execution_count": 137,
   "metadata": {},
   "outputs": [
    {
     "data": {
      "text/plain": [
       "array([[0.0000e+00, 0.0000e+00, 1.0000e+00, 0.0000e+00, 0.0000e+00,\n",
       "        0.0000e+00, 0.0000e+00, 0.0000e+00, 1.0000e+00, 0.0000e+00,\n",
       "        0.0000e+00, 0.0000e+00, 0.0000e+00, 0.0000e+00, 0.0000e+00,\n",
       "        0.0000e+00, 0.0000e+00, 0.0000e+00, 0.0000e+00, 0.0000e+00,\n",
       "        0.0000e+00, 0.0000e+00, 0.0000e+00, 1.0000e+00, 1.0000e+00,\n",
       "        1.0000e+00, 2.3529e-01, 1.0000e+00, 1.0000e+00, 0.0000e+00,\n",
       "        0.0000e+00, 0.0000e+00, 0.0000e+00, 0.0000e+00, 0.0000e+00,\n",
       "        0.0000e+00, 0.0000e+00, 0.0000e+00, 0.0000e+00, 0.0000e+00,\n",
       "        0.0000e+00, 0.0000e+00, 0.0000e+00, 0.0000e+00, 0.0000e+00,\n",
       "        0.0000e+00, 0.0000e+00, 0.0000e+00, 0.0000e+00, 0.0000e+00,\n",
       "        0.0000e+00, 0.0000e+00, 0.0000e+00, 0.0000e+00, 0.0000e+00,\n",
       "        0.0000e+00, 0.0000e+00, 0.0000e+00, 0.0000e+00, 0.0000e+00,\n",
       "        0.0000e+00, 0.0000e+00, 0.0000e+00, 0.0000e+00, 0.0000e+00,\n",
       "        0.0000e+00, 0.0000e+00, 0.0000e+00, 0.0000e+00, 0.0000e+00,\n",
       "        0.0000e+00, 0.0000e+00, 0.0000e+00, 0.0000e+00, 0.0000e+00,\n",
       "        0.0000e+00, 0.0000e+00, 0.0000e+00, 2.2680e-02, 0.0000e+00,\n",
       "        2.1150e-02, 0.0000e+00, 0.0000e+00, 0.0000e+00, 0.0000e+00,\n",
       "        7.7000e+01, 0.0000e+00, 0.0000e+00, 0.0000e+00, 1.0000e+00,\n",
       "        0.0000e+00, 0.0000e+00, 1.0000e+00, 0.0000e+00, 0.0000e+00,\n",
       "        0.0000e+00, 1.0000e+00, 0.0000e+00, 0.0000e+00, 0.0000e+00]],\n",
       "      dtype=float32)"
      ]
     },
     "execution_count": 137,
     "metadata": {},
     "output_type": "execute_result"
    }
   ],
   "source": [
    "embeddings[test_ids[0]]['static']"
   ]
  },
  {
   "cell_type": "markdown",
   "metadata": {},
   "source": [
    "#### SHAP values inference"
   ]
  },
  {
   "cell_type": "code",
   "execution_count": 140,
   "metadata": {},
   "outputs": [
    {
     "name": "stdout",
     "output_type": "stream",
     "text": [
      "physltc_abd_aortic_aneurysm -> SHAP [0.]; Actual 0.0\n",
      "physltc_ischaemic_heart_disease -> SHAP [-0.00081517]; Actual 0.0\n",
      "physltc_hypertension -> SHAP [0.00012661]; Actual 1.0\n",
      "physltc_stroke -> SHAP [0.]; Actual 0.0\n",
      "physltc_peripheral_arterial_disease -> SHAP [-2.96295502e-06]; Actual 0.0\n",
      "physltc_inflammatory_bowel_disease -> SHAP [0.]; Actual 0.0\n",
      "physltc_liver_disease -> SHAP [0.00010529]; Actual 0.0\n",
      "physltc_diabetes -> SHAP [0.00075821]; Actual 1.0\n",
      "physltc_chronic_kidney_disease -> SHAP [0.00010897]; Actual 0.0\n",
      "physltc_arthritis -> SHAP [1.1354352e-05]; Actual 0.0\n",
      "physltc_hip_fracture -> SHAP [0.]; Actual 0.0\n",
      "physltc_progressive_neur_disease -> SHAP [-0.00066648]; Actual 0.0\n",
      "physltc_copd -> SHAP [0.00035966]; Actual 0.0\n",
      "physltc_pulmonary_fibrosis -> SHAP [7.51510233e-05]; Actual 0.0\n",
      "physltc_asthma -> SHAP [0.0017892]; Actual 1.0\n",
      "physltc_bronchiectasis -> SHAP [0.]; Actual 0.0\n",
      "physltc_epilepsy -> SHAP [0.]; Actual 0.0\n",
      "physltc_osteoporosis -> SHAP [-0.0005688]; Actual 0.0\n",
      "physltc_obesity -> SHAP [9.01999647e-06]; Actual 0.0\n",
      "physltc_heart_failure -> SHAP [-0.00030441]; Actual 0.0\n",
      "physltc_atrial_fibrillation -> SHAP [0.00026386]; Actual 0.0\n",
      "menltc_alcohol_substance_misuse -> SHAP [-0.00010205]; Actual 0.0\n",
      "menltc_psychiatric_disorders -> SHAP [-0.00016936]; Actual 0.0\n",
      "menltc_depression -> SHAP [-0.00031956]; Actual 0.0\n",
      "physltc_malignant_tumor -> SHAP [0.00102466]; Actual 0.0\n",
      "phys_men_multimorbidity -> SHAP [-0.00072121]; Actual 0.0\n",
      "n_unique_conditions -> SHAP [-1.35088512e-05]; Actual 0.17646999657154083\n",
      "is_multimorbid -> SHAP [0.00015174]; Actual 1.0\n",
      "is_complex_multimorbid -> SHAP [-0.0004603]; Actual 0.0\n",
      "total_n_presc -> SHAP [-0.00094403]; Actual 0.4146299958229065\n",
      "n_presc_acetaminophen -> SHAP [7.66186076e-07]; Actual 0.02964000031352043\n",
      "n_presc_acyclovir -> SHAP [0.]; Actual 0.0\n",
      "n_presc_albuterol_neb_soln -> SHAP [-8.48615582e-06]; Actual 0.0\n",
      "n_presc_amlodipine -> SHAP [1.85040808e-05]; Actual 0.03288999944925308\n",
      "n_presc_apixaban -> SHAP [2.12390106e-07]; Actual 0.0\n",
      "n_presc_aspirin -> SHAP [1.26728301e-05]; Actual 0.0031399999279528856\n",
      "n_presc_atorvastatin -> SHAP [3.63160802e-06]; Actual 0.007069999817758799\n",
      "n_presc_calcium_carbonate -> SHAP [7.24787533e-05]; Actual 0.010420000180602074\n",
      "n_presc_carvedilol -> SHAP [1.09445963e-07]; Actual 0.0\n",
      "n_presc_cefepime -> SHAP [1.21365392e-05]; Actual 0.0\n",
      "n_presc_ceftriaxone -> SHAP [-1.34607028e-08]; Actual 0.009800000116229057\n",
      "n_presc_docusate_sodium -> SHAP [-9.59018071e-05]; Actual 0.0022700000554323196\n",
      "n_presc_famotidine -> SHAP [1.27577277e-06]; Actual 0.0\n",
      "n_presc_folic_acid -> SHAP [-4.25481267e-06]; Actual 0.0\n",
      "n_presc_furosemide -> SHAP [-7.36381844e-06]; Actual 0.0\n",
      "n_presc_gabapentin -> SHAP [-6.64287872e-05]; Actual 0.025049999356269836\n",
      "n_presc_heparin -> SHAP [1.80810002e-06]; Actual 0.0232900008559227\n",
      "n_presc_hydralazine -> SHAP [0.]; Actual 0.0\n",
      "n_presc_hydromorphone_dilaudid -> SHAP [-1.40725774e-06]; Actual 0.0025400000158697367\n",
      "n_presc_insulin -> SHAP [-1.89351999e-06]; Actual 0.014399999752640724\n",
      "n_presc_ipratropium_albuterol_neb -> SHAP [-2.12125951e-06]; Actual 0.0\n",
      "n_presc_lactulose -> SHAP [-2.53161215e-06]; Actual 0.0\n",
      "n_presc_levetiracetam -> SHAP [-8.0802198e-07]; Actual 0.0\n",
      "n_presc_levothyroxine_sodium -> SHAP [2.84266644e-05]; Actual 0.0\n",
      "n_presc_lisinopril -> SHAP [0.]; Actual 0.0\n",
      "n_presc_lorazepam -> SHAP [6.08417895e-06]; Actual 0.000699999975040555\n",
      "n_presc_metoprolol_succinate_xl -> SHAP [-5.04611853e-06]; Actual 0.0\n",
      "n_presc_metoprolol_tartrate -> SHAP [1.36257913e-05]; Actual 0.0\n",
      "n_presc_metronidazole -> SHAP [-0.00011356]; Actual 0.08653999865055084\n",
      "n_presc_midodrine -> SHAP [0.]; Actual 0.0\n",
      "n_presc_morphine_sulfate -> SHAP [-1.50894755e-06]; Actual 0.0\n",
      "n_presc_multivitamins -> SHAP [1.3925056e-05]; Actual 0.0\n",
      "n_presc_omeprazole -> SHAP [1.62969695e-06]; Actual 0.022789999842643738\n",
      "n_presc_ondansetron -> SHAP [4.65515041e-05]; Actual 0.06328999996185303\n",
      "n_presc_oxycodone -> SHAP [4.63857896e-06]; Actual 0.0\n",
      "n_presc_pantoprazole -> SHAP [3.01135933e-05]; Actual 0.0\n",
      "n_presc_piperacillin_tazobactam -> SHAP [4.85564888e-05]; Actual 0.0\n",
      "n_presc_polyethylene_glycol -> SHAP [9.61757723e-06]; Actual 0.0035699999425560236\n",
      "n_presc_potassium_chloride -> SHAP [1.07147807e-05]; Actual 0.0\n",
      "n_presc_prednisone -> SHAP [0.00010487]; Actual 0.0\n",
      "n_presc_rifaximin -> SHAP [0.]; Actual 0.0\n",
      "n_presc_senna -> SHAP [-0.00012534]; Actual 0.0\n",
      "n_presc_sevelamer_carbonate -> SHAP [0.]; Actual 0.0\n",
      "n_presc_tacrolimus -> SHAP [1.69919622e-05]; Actual 0.0\n",
      "n_presc_thiamine -> SHAP [-6.24009635e-06]; Actual 0.0\n",
      "n_presc_vancomycin -> SHAP [-3.53782343e-05]; Actual 0.0\n",
      "n_presc_vitamin_d -> SHAP [7.28950545e-06]; Actual 0.04761999845504761\n",
      "n_presc_warfarin -> SHAP [7.07837025e-05]; Actual 0.0\n",
      "pon_nutrition -> SHAP [-1.21780467e-05]; Actual 0.032990001142024994\n",
      "pon_respiratory -> SHAP [1.42537228e-05]; Actual 0.005239999853074551\n",
      "pon_radiology -> SHAP [-5.16158507e-05]; Actual 0.04230000078678131\n",
      "pon_cardiology -> SHAP [-4.49867803e-05]; Actual 0.011149999685585499\n",
      "pon_neurology -> SHAP [0.]; Actual 0.0\n",
      "pon_hemodialysis -> SHAP [0.]; Actual 0.0\n",
      "pon_tpn -> SHAP [-2.16219587e-06]; Actual 0.0\n",
      "anchor_age -> SHAP [0.00046151]; Actual 77.0\n",
      "gender_F -> SHAP [-0.00060419]; Actual 1.0\n",
      "race_group_Hispanic_Latino -> SHAP [4.79554401e-05]; Actual 1.0\n",
      "race_group_Black -> SHAP [0.00014628]; Actual 0.0\n",
      "race_group_White -> SHAP [-0.00210728]; Actual 0.0\n",
      "race_group_Asian -> SHAP [1.39525509e-05]; Actual 0.0\n",
      "race_group_Other -> SHAP [0.]; Actual 0.0\n",
      "marital_status_Married -> SHAP [0.00131445]; Actual 0.0\n",
      "marital_status_Single -> SHAP [-0.00027961]; Actual 0.0\n",
      "marital_status_Widowed -> SHAP [0.00171895]; Actual 1.0\n",
      "marital_status_Divorced -> SHAP [-1.01021908e-06]; Actual 0.0\n",
      "insurance_Medicare -> SHAP [-0.00060175]; Actual 1.0\n",
      "insurance_Medicaid -> SHAP [0.]; Actual 0.0\n",
      "insurance_Private -> SHAP [8.83833709e-05]; Actual 0.0\n",
      "insurance_Other -> SHAP [0.]; Actual 0.0\n",
      "(1, 100)\n"
     ]
    }
   ],
   "source": [
    "### Tabluar data\n",
    "for i in range(shap_embeddings['batch_1']['static'].shape[2]):\n",
    "    print(f\"{cols['static_cols'][i]} -> SHAP {shap_embeddings['batch_0']['static'][9][0][i]}; Actual {embeddings[test_ids[9]]['static'][0][i]}\")\n",
    "\n",
    "print(embeddings[test_ids[1]]['static'].shape)"
   ]
  },
  {
   "cell_type": "code",
   "execution_count": 141,
   "metadata": {},
   "outputs": [
    {
     "data": {
      "text/plain": [
       "array([ 0.000e+00,  0.000e+00,  4.600e-01,  1.500e-01,  1.469e+01,\n",
       "       -1.000e+00,  3.600e+00,  1.660e+02,  1.900e+01, -1.000e+00,\n",
       "       -1.000e+00,  0.000e+00,  2.200e+01,  2.200e+00, -1.000e+00,\n",
       "       -1.000e+00,  1.000e+02,  1.000e+00,  0.000e+00, -1.000e+00,\n",
       "        3.680e+01,  1.150e+01, -1.000e+00, -1.000e+00, -1.000e+00,\n",
       "        3.000e+00, -1.000e+00,  2.460e+01,  3.130e+01,  7.900e+01,\n",
       "        1.000e+00,  8.800e+01, -1.000e+00, -1.000e+00, -1.000e+00,\n",
       "       -1.000e+00, -1.000e+00,  3.800e+00, -1.000e+00, -1.000e+00,\n",
       "       -1.000e+00,  1.420e+01,  4.030e+01,  4.680e+00,  1.370e+02,\n",
       "       -1.000e+00,  1.700e+01, -1.000e+00,  1.530e+01])"
      ]
     },
     "execution_count": 141,
     "metadata": {},
     "output_type": "execute_result"
    }
   ],
   "source": [
    "embeddings[test_ids[10]]['dynamic_1'][0]"
   ]
  },
  {
   "cell_type": "code",
   "execution_count": null,
   "metadata": {},
   "outputs": [],
   "source": [
    "shap_embeddings['batch_128']"
   ]
  },
  {
   "cell_type": "code",
   "execution_count": null,
   "metadata": {},
   "outputs": [],
   "source": [
    "ctr = 0\n",
    "lengths = []\n",
    "for i in range(len(sorted(test_ids))):\n",
    "    lengths.append(len(embeddings[test_ids[i]]['notes']))\n",
    "    if len(embeddings[test_ids[i]]['notes']) == 73:\n",
    "        ctr += 1\n",
    "        print(f\"ID {test_ids[i], i} has {len(embeddings[test_ids[i]]['notes'])} segments\")\n",
    "\n",
    "for i in range(128):\n",
    "    for j in range(len(shap_embeddings['batch_'+str(i)]['notes'])):\n",
    "        emb = shap_embeddings['batch_'+str(i)]['notes'][j][0]\n",
    "        print(len(emb[emb!=0.00000000e+00]))\n",
    "\n",
    "#print(lengths[33:49])"
   ]
  },
  {
   "cell_type": "code",
   "execution_count": null,
   "metadata": {},
   "outputs": [],
   "source": [
    "sorted(lengths)[-20:]"
   ]
  },
  {
   "cell_type": "code",
   "execution_count": null,
   "metadata": {},
   "outputs": [
    {
     "name": "stdout",
     "output_type": "stream",
     "text": [
      "38 (16, 1, 768, 1)\n",
      "IDX:0\n",
      "Sentence:Mr. is a with newly diagnosed metastatic melanoma who presents to the ER with hematochezia in the setting of Lovenox for PE.\n",
      "Embed Score:0.15109170973300934 -> SHAP: [0.00436763]\n",
      "IDX:1\n",
      "Sentence:The pt's hct remained stable during admission and he did not require any blood transfusions.\n",
      "Embed Score:0.15347988903522491 -> SHAP: [-0.00391778]\n",
      "IDX:2\n",
      "Sentence:His lovenox was held and once hct stable, a heparin gtt was started.\n",
      "Embed Score:-0.03012780472636223 -> SHAP: [0.00330271]\n",
      "IDX:3\n",
      "Sentence:A colonoscopy showed grade 1 internal hemorrhoids with a suspicious lesion on top of a blood vessel.\n",
      "Embed Score:-0.000563700741622597 -> SHAP: [-0.0194098]\n",
      "IDX:4\n",
      "Sentence:GI was unable to take a sample and recommended Colorectal surgery to evaluate.\n",
      "Embed Score:0.14725066721439362 -> SHAP: [0.01326799]\n",
      "IDX:5\n",
      "Sentence:Dr. pt and did not feel any further intervention would be necessary.\n",
      "Embed Score:-0.004169290419667959 -> SHAP: [0.01680252]\n",
      "IDX:6\n",
      "Sentence:Upon further reviewing his CTA from a previous admission, the diagnosis of PE was questionable.\n",
      "Embed Score:-0.037314366549253464 -> SHAP: [-0.00675936]\n",
      "IDX:7\n",
      "Sentence:Repeat CTA did not show any filling defects concerning for PE.\n",
      "Embed Score:0.02655486948788166 -> SHAP: [0.005708]\n",
      "IDX:8\n",
      "Sentence:The pt also had negative LENIs.\n",
      "Embed Score:0.0737149640917778 -> SHAP: [0.00065508]\n",
      "IDX:9\n",
      "Sentence:The pt's L axilla cellulitis was monitored during his stay.\n",
      "Embed Score:0.05086865648627281 -> SHAP: [0.01530494]\n",
      "IDX:10\n",
      "Sentence:It showed some improvement during admission.\n",
      "Embed Score:0.08358675241470337 -> SHAP: [-0.00164558]\n",
      "IDX:11\n",
      "Sentence:He continued his cipro, but his outpt clida was held.\n",
      "Embed Score:0.02627255767583847 -> SHAP: [-0.00809109]\n",
      "IDX:12\n",
      "Sentence:During his stay he was on vancomycin instead.\n",
      "Embed Score:-0.3721866309642792 -> SHAP: [-0.01651247]\n",
      "IDX:13\n",
      "Sentence:The pt was not discharged on any anticoagulation given the negative CTA.\n",
      "Embed Score:0.24173638224601746 -> SHAP: [-0.01433522]\n",
      "IDX:14\n",
      "Sentence:He will finish his antibiotic course for the cellulitis.\n",
      "Embed Score:-0.12367154657840729 -> SHAP: [0.00644302]\n",
      "IDX:15\n",
      "Sentence:No further intervention was deemed necessary for his internal hemorrhoid.\n",
      "Embed Score:0.04608922079205513 -> SHAP: [0.00708288]\n",
      "IDX:16\n",
      "Sentence:The pt will start taking vemurafinib as an outpt for treatment of his metastatic melanoma.\n",
      "Embed Score:-0.048995550721883774 -> SHAP: [0.00099566]\n",
      "IDX:17\n",
      "Sentence:<ENDNOTE> <STARTNOTE> The patient is a with recently diagnosed metastatic melanoma p/w altered mental status.\n",
      "Embed Score:-0.03649371117353439 -> SHAP: [-0.00491818]\n",
      "IDX:18\n",
      "Sentence:The patient was confused at home and was found after falling down with a bloody nose.\n",
      "Embed Score:0.06276558339595795 -> SHAP: [-0.00191429]\n",
      "IDX:19\n",
      "Sentence:A head CT did not show any acute intracranial process, and the patient was admitted for further workup.\n",
      "Embed Score:-0.10618747025728226 -> SHAP: [0.02841609]\n",
      "IDX:20\n",
      "Sentence:Labwork was mostly within normal limits.\n",
      "Embed Score:-0.13088248670101166 -> SHAP: [0.05630679]\n",
      "IDX:21\n",
      "Sentence:TSH was 2.0, Vit B12 , and lytes WNL.\n",
      "Embed Score:-0.06020696461200714 -> SHAP: [-0.00416031]\n",
      "IDX:22\n",
      "Sentence:Serum creatinine was initially elevated but trended down to baseline during his stay.\n",
      "Embed Score:-0.23453401029109955 -> SHAP: [-0.00572818]\n",
      "IDX:23\n",
      "Sentence:Lisinopril was held and not continued at time of discharge.\n",
      "Embed Score:0.11033648997545242 -> SHAP: [0.03297447]\n",
      "IDX:24\n",
      "Sentence:A CBC showed leukocytosis into the , which was considered to be a leukomoid reaction in the setting of melanoma and likely infection.\n",
      "Embed Score:-0.0444197878241539 -> SHAP: [0.00098606]\n",
      "IDX:25\n",
      "Sentence:Cultures were negative during his stay.\n",
      "Embed Score:-0.08148280531167984 -> SHAP: [0.00378409]\n",
      "IDX:26\n",
      "Sentence:The patient had a cellulitis over a mass located in his left axilla.\n",
      "Embed Score:0.1262890249490738 -> SHAP: [0.00800857]\n",
      "IDX:27\n",
      "Sentence:The area of erythema was closely monitored during his stay.\n",
      "Embed Score:0.4061253070831299 -> SHAP: [-0.03055266]\n",
      "IDX:28\n",
      "Sentence:Prior to admission the patient was taking keflex and bactrim, but was switched to IV vancomycin for MRSA coverage.\n",
      "Embed Score:-0.0708501860499382 -> SHAP: [-0.00226472]\n",
      "IDX:29\n",
      "Sentence:ID was consulted and recommended to add zosyn for a broader coverage.\n",
      "Embed Score:0.06613694876432419 -> SHAP: [-0.02937686]\n",
      "IDX:30\n",
      "Sentence:A CT of his torso showed progression of his disease.\n",
      "Embed Score:-0.05425187200307846 -> SHAP: [-0.00082784]\n",
      "IDX:31\n",
      "Sentence:BRAF mutation was found to be positive, and the patient will eventually start vemurafenib.\n",
      "Embed Score:-0.03651532530784607 -> SHAP: [-0.00816598]\n",
      "IDX:32\n",
      "Sentence:Discussion of considering debulking of the axillary mass was discussed, but given that treatment is possible with vemurafenib, the hope is that chemo will help to reduce the size of this mass.\n",
      "Embed Score:0.021702159196138382 -> SHAP: [0.00370054]\n",
      "IDX:33\n",
      "Sentence:The patient had several episodes of SVT, as his HR slowly rose during his stay.\n",
      "Embed Score:-0.03719509765505791 -> SHAP: [-0.01181747]\n",
      "IDX:34\n",
      "Sentence:A CTA was obtained and it showed multiple PEs.\n",
      "Embed Score:0.04341110587120056 -> SHAP: [-0.01016818]\n",
      "IDX:35\n",
      "Sentence:The patient was started on a heparin drip and transitioned to lovenox for discharge.\n",
      "Embed Score:0.13627833127975464 -> SHAP: [0.02859098]\n",
      "IDX:36\n",
      "Sentence:The patient was discharged on PO cipro and clinda for possible cellulitis in L axilla.\n",
      "Embed Score:0.08663949370384216 -> SHAP: [0.000905]\n",
      "IDX:37\n",
      "Sentence:The patient has planned chemotherapy on .\n",
      "Embed Score:0.12268020957708359 -> SHAP: [-0.03852355]\n",
      "(768, 1)\n",
      "658 110\n",
      "[658, 658, 658, 658, 658, 658, 658, 658, 658, 658, 658, 658, 658, 658, 658, 658] [110, 110, 110, 110, 110, 110, 110, 110, 110, 110, 110, 110, 110, 110, 110, 110]\n",
      "[38, 81, 48, 49, 325, 19, 45, 658, 171, 85, 33, 38, 16, 18, 54, 162]\n"
     ]
    }
   ],
   "source": [
    "print(len(embeddings[test_ids[0]]['notes']), shap_embeddings['batch_0']['notes'].shape)\n",
    "for i in range(len(embeddings[test_ids[0]]['notes'])):\n",
    "    print(f\"IDX:{i}\")\n",
    "    print(f\"Sentence:{embeddings[test_ids[0]]['notes'][i][0]}\")\n",
    "    print(f\"Embed Score:{embeddings[test_ids[0]]['notes'][i][1]} -> SHAP: {shap_embeddings['batch_0']['notes'][0][0][i]}\")\n",
    "\n",
    "shap_t = shap_embeddings['batch_0']['notes'][0][0]\n",
    "print(shap_t.shape)\n",
    "shap_tst = shap_t[shap_t!=0.0000]\n",
    "shap_null = shap_t[shap_t==0.0000]\n",
    "print(shap_tst.shape[0], shap_null.shape[0])\n",
    "shap_b_max = []\n",
    "shap_n_max = []\n",
    "for i in range(len(shap_embeddings['batch_0']['notes'])):\n",
    "    shap_tst_idx = shap_embeddings['batch_0']['notes'][i][0]\n",
    "    shap_tst_i = shap_tst_idx[shap_tst_idx!=0.0000]\n",
    "    shap_tst_null = shap_tst_idx[shap_tst_idx==0.0000]\n",
    "    shap_b_max.append(shap_tst_i.shape[0])\n",
    "    shap_n_max.append(shap_tst_null.shape[0])\n",
    "\n",
    "test_embs = []\n",
    "for idx in range(16):\\\n",
    "    test_emb = embeddings[test_ids[idx]]['notes']\n",
    "    tl = 0\n",
    "    for sent in test_emb:\n",
    "        tl += 1\n",
    "    test_embs.append(tl)\n",
    "\n",
    "print(shap_b_max, shap_n_max)\n",
    "print(test_embs)\n",
    "#print(len(shap_embeddings['batch_0']['notes'][0][0][shap_embeddings['batch_0']['notes'][0][0]!=0.00000000e+00]))"
   ]
  },
  {
   "cell_type": "code",
   "execution_count": 143,
   "metadata": {},
   "outputs": [
    {
     "name": "stdout",
     "output_type": "stream",
     "text": [
      "(4, 6)\n",
      "(4, 6, 64)\n",
      "[[ 1.60673518e-05 -1.37289651e-04  1.39924089e-05 -9.47744802e-06\n",
      "   1.50308432e-04 -3.45186097e-04]\n",
      " [-7.75418699e-04  3.61871357e-03  4.73801947e-05  5.20846424e-04\n",
      "  -4.49554515e-03  1.09389339e-03]\n",
      " [-9.33859859e-04  2.31401391e-03  1.75343560e-03  9.54452753e-05\n",
      "  -3.42064373e-03  2.39767652e-04]\n",
      " [-5.30231379e-03  7.31524195e-03  1.96289438e-03  2.64732335e-04\n",
      "  -5.49056289e-03  8.85519644e-04]]\n",
      "[[ 1.34533676e-14 -1.44595648e-14 -3.41085675e-14 ...  1.07555280e-13\n",
      "   3.61511367e-13 -1.81192887e-13]\n",
      " [ 3.73197935e-15 -2.57649452e-14 -4.59556895e-14 ... -1.12587775e-13\n",
      "   3.25913867e-31 -4.59921313e-14]\n",
      " [-5.78546661e-16 -3.09517297e-14 -5.30254111e-14 ... -4.19245662e-14\n",
      "   0.00000000e+00  5.51753072e-14]\n",
      " ...\n",
      " [ 4.37867724e-05  1.74702940e-04 -2.10717565e-04 ... -2.96349470e-03\n",
      "   1.53617496e-04  1.44732874e-04]\n",
      " [ 2.68765476e-05  1.99234525e-04 -4.49701593e-04 ... -4.47054816e-03\n",
      "   1.82895902e-04  2.19058053e-04]\n",
      " [ 1.22359283e-04  9.43316653e-05 -1.00298038e-03 ... -6.88234693e-03\n",
      "   9.54357043e-05 -4.26712074e-03]] (124, 49)\n",
      "------Batch 0 measure variances------\n",
      "0.0010667303413356422 -0.0010985969581156496 2.0538620081518792e-07 3.532119497131715e-05\n",
      "0.007896034445138866 -0.006171038617651448 -3.5720607615548815e-05 0.002982604010690711\n",
      "------Batch 1 measure variances------\n",
      "0.001443322175987305 -0.0014752497218069038 3.1381022511726393e-07 4.335115197955867e-05\n",
      "0.009894247129523137 -0.00664032175666307 0.0007484839567245827 0.0037382846991444035\n",
      "------Batch 2 measure variances------\n",
      "0.000937669603786162 -0.0011628159477368172 1.3936077880772878e-07 3.214517335258763e-05\n",
      "0.009539918343438814 -0.005527341620108928 0.0010786416005158506 0.0037267766942068897\n",
      "------Batch 3 measure variances------\n",
      "0.0012790447218549161 -0.0015519312044176559 2.6223667363996833e-07 4.182095608994866e-05\n",
      "0.009031838341517329 -0.005688943801828827 0.0008609862768226654 0.0033762932691081466\n",
      "------Batch 4 measure variances------\n",
      "0.0015088033832739711 -0.0011022094322470366 1.7363136341029984e-07 3.591050160091301e-05\n",
      "0.008290697332142827 -0.005571291068463324 0.0005559508686907392 0.0030823300634002936\n",
      "------Batch 5 measure variances------\n",
      "0.0010376842807318098 -0.0008963986249455047 1.08424989289417e-07 2.8162850794505033e-05\n",
      "0.008229415120446504 -0.005779168663138989 0.0006579655780203734 0.0031895395288413396\n",
      "------Batch 6 measure variances------\n",
      "0.0012841874217315308 -0.0019238051984302729 3.7421496661628913e-07 4.763919566770145e-05\n",
      "0.009958701308732998 -0.007893970570876263 0.0005906959381982343 0.0039867433800522545\n",
      "------Batch 7 measure variances------\n",
      "0.0016692200806573965 -0.001794475239194071 2.65694755134425e-07 4.3995826991679775e-05\n",
      "0.012523667417553952 -0.006077939244278241 0.0009737459648394656 0.004216190461964824\n",
      "------Batch 8 measure variances------\n",
      "0.0013294190537180839 -0.0012902046725002947 3.2277443631228154e-07 3.6440897988781936e-05\n",
      "0.18735676395115775 -0.02329661209822831 0.014801068397602755 0.04213821780396429\n",
      "------Batch 9 measure variances------\n",
      "0.001350305685150488 -0.0012937228019609393 3.0352356583976294e-07 4.31568700996938e-05\n",
      "0.1839168051830029 -0.024199893178661114 0.021711283230479588 0.047083191966998256\n",
      "------Batch 10 measure variances------\n",
      "0.0014085035767266163 -0.0018350476304931362 3.3690780189140544e-07 4.717209862825698e-05\n",
      "0.006788493978774568 -0.00535861226671841 0.00017602555410997298 0.0028217664217044212\n",
      "------Batch 11 measure variances------\n",
      "0.0011133512591641193 -0.0013535541540932172 1.0950759294447344e-08 3.2507965620396664e-05\n",
      "0.059056301590477034 -0.011461177248861532 0.006563249762715088 0.017983730055681494\n",
      "------Batch 12 measure variances------\n",
      "0.0012824644215925218 -0.0012924631075179605 2.9644431935649417e-07 3.955281610926318e-05\n",
      "0.0625933103491434 -0.017158167793468238 0.007309790761438441 0.02034792299966034\n",
      "------Batch 13 measure variances------\n",
      "0.001945313598980647 -0.001337903861212908 2.000811580424705e-07 4.34408134984678e-05\n",
      "0.009305897299540788 -0.006164237802309458 -3.3241366913664784e-05 0.0033099918504018435\n",
      "------Batch 14 measure variances------\n",
      "0.0015288962853219346 -0.0013288107165010388 -6.704301213482011e-07 5.614775966013354e-05\n",
      "0.06150014810737403 -0.016861486918735125 0.0036434816785684276 0.013681824263946952\n",
      "------Batch 15 measure variances------\n",
      "0.2033977684986894 -0.030911481233715676 0.00020509302015202834 0.004669577599609315\n",
      "0.007315241947253526 -0.005490562894920004 -2.575186692594748e-05 0.00268538553996855\n"
     ]
    }
   ],
   "source": [
    "import numpy as np\n",
    "\n",
    "agg_shap = np.mean(shap_embeddings['batch_0']['timeseries']['dynamic0'][15], axis=2)\n",
    "print(agg_shap.shape)\n",
    "print(shap_embeddings['batch_0']['timeseries']['dynamic0'][15].shape)\n",
    "print(agg_shap)\n",
    "agg_shap_test = np.mean(shap_embeddings['batch_0']['timeseries']['dynamic1'][15], axis=2)\n",
    "print(agg_shap_test, agg_shap_test.shape)\n",
    "\n",
    "for i in range(16):\n",
    "    print(f\"------Batch {i} measure variances------\")\n",
    "    agg_st_i = np.mean(shap_embeddings['batch_0']['timeseries']['dynamic1'][i], axis=2)\n",
    "    agg_sm_i = np.mean(shap_embeddings['batch_0']['timeseries']['dynamic0'][i], axis=2)\n",
    "    print(np.max(agg_st_i), np.min(agg_st_i), np.mean(agg_st_i), np.std(agg_st_i))\n",
    "    print(np.max(agg_sm_i), np.min(agg_sm_i), np.mean(agg_sm_i), np.std(agg_sm_i))"
   ]
  },
  {
   "cell_type": "code",
   "execution_count": 157,
   "metadata": {},
   "outputs": [
    {
     "data": {
      "text/plain": [
       "(6, 49)"
      ]
     },
     "execution_count": 157,
     "metadata": {},
     "output_type": "execute_result"
    }
   ],
   "source": [
    "embeddings[test_ids[25]]['dynamic_1'].shape"
   ]
  },
  {
   "cell_type": "code",
   "execution_count": 144,
   "metadata": {},
   "outputs": [
    {
     "data": {
      "text/plain": [
       "['Diastolic blood pressure',\n",
       " 'Heart rate',\n",
       " 'Oxygen saturation',\n",
       " 'Respiratory rate',\n",
       " 'Systolic blood pressure',\n",
       " 'Temperature']"
      ]
     },
     "execution_count": 144,
     "metadata": {},
     "output_type": "execute_result"
    }
   ],
   "source": [
    "cols['dynamic0_cols']"
   ]
  },
  {
   "cell_type": "code",
   "execution_count": 164,
   "metadata": {},
   "outputs": [
    {
     "data": {
      "text/plain": [
       "array([[ 78.5       , 101.        ,  98.5       ,  17.        ,\n",
       "        109.        ,  48.55      ],\n",
       "       [ 63.        , 102.        ,  96.66666667,  16.66666667,\n",
       "        109.33333333,  -1.        ],\n",
       "       [ 61.        , 103.5       ,  96.5       ,  17.        ,\n",
       "        107.5       ,  48.3       ],\n",
       "       [ 62.        ,  74.        ,  96.5       ,  17.        ,\n",
       "        115.        ,  48.45      ]])"
      ]
     },
     "execution_count": 164,
     "metadata": {},
     "output_type": "execute_result"
    }
   ],
   "source": [
    "embeddings[test_ids[8]]['dynamic_0']"
   ]
  },
  {
   "cell_type": "code",
   "execution_count": 165,
   "metadata": {},
   "outputs": [
    {
     "name": "stdout",
     "output_type": "stream",
     "text": [
      "# Measures: 6\n",
      "# Tests: 49\n",
      "# Timepoints (measures): 4\n",
      "# Timepoints (tests): 124\n",
      "Overall test lengths:  [21, 13, 3, 23, 19, 7, 13, 41, 23, 14, 25, 10, 6, 4, 96, 124]\n",
      "Overall measure lengths:  [1, 2, 2, 2, 2, 2, 2, 2, 4, 4, 2, 3, 3, 1, 3, 1]\n",
      "----VITALS----\n",
      "TS:  0\n",
      "Diastolic blood pressure -> SHAP: 1.6067351808146668e-05; Actual: 78.5\n",
      "Heart rate -> SHAP: -0.00013728965074477628; Actual: 101.0\n",
      "Oxygen saturation -> SHAP: 1.3992408896656983e-05; Actual: 98.5\n",
      "Respiratory rate -> SHAP: -9.477448024597379e-06; Actual: 17.0\n",
      "Systolic blood pressure -> SHAP: 0.0001503084317917569; Actual: 109.0\n",
      "Temperature -> SHAP: -0.0003451860972631948; Actual: 48.55\n",
      "TS:  1\n",
      "Diastolic blood pressure -> SHAP: -0.0007754186990496237; Actual: 63.0\n",
      "Heart rate -> SHAP: 0.003618713566538645; Actual: 102.0\n",
      "Oxygen saturation -> SHAP: 4.738019470096333e-05; Actual: 96.66666666666667\n",
      "Respiratory rate -> SHAP: 0.00052084642356931; Actual: 16.666666666666668\n",
      "Systolic blood pressure -> SHAP: -0.004495545146482982; Actual: 109.33333333333333\n",
      "Temperature -> SHAP: 0.0010938933903048564; Actual: -1.0\n",
      "TS:  2\n",
      "Diastolic blood pressure -> SHAP: -0.000933859858832875; Actual: 61.0\n",
      "Heart rate -> SHAP: 0.002314013911927759; Actual: 103.5\n",
      "Oxygen saturation -> SHAP: 0.0017534356011310592; Actual: 96.5\n",
      "Respiratory rate -> SHAP: 9.544527534899316e-05; Actual: 17.0\n",
      "Systolic blood pressure -> SHAP: -0.0034206437262582767; Actual: 107.5\n",
      "Temperature -> SHAP: 0.00023976765214683837; Actual: 48.3\n",
      "TS:  3\n",
      "Diastolic blood pressure -> SHAP: -0.005302313793890789; Actual: 62.0\n",
      "Heart rate -> SHAP: 0.007315241947253526; Actual: 74.0\n",
      "Oxygen saturation -> SHAP: 0.0019628943753104977; Actual: 96.5\n",
      "Respiratory rate -> SHAP: 0.00026473233469914703; Actual: 17.0\n",
      "Systolic blood pressure -> SHAP: -0.005490562894920004; Actual: 115.0\n",
      "Temperature -> SHAP: 0.0008855196438162238; Actual: 48.45\n"
     ]
    }
   ],
   "source": [
    "### TS data\n",
    "print('# Measures:', shap_embeddings['batch_0']['timeseries']['dynamic0'].shape[2])\n",
    "print('# Tests:', shap_embeddings['batch_0']['timeseries']['dynamic1'].shape[2])\n",
    "print('# Timepoints (measures):', shap_embeddings['batch_0']['timeseries']['dynamic0'].shape[1])\n",
    "print('# Timepoints (tests):', shap_embeddings['batch_0']['timeseries']['dynamic1'].shape[1])\n",
    "test_l = []; test_m = [];\n",
    "for i in range(16):\n",
    "    test_l.append(len(embeddings[test_ids[i]]['dynamic_1']))\n",
    "    test_m.append(len(embeddings[test_ids[i]]['dynamic_0']))\n",
    "\n",
    "print(\"Overall test lengths: \", test_l)\n",
    "print(\"Overall measure lengths: \", test_m)\n",
    "\n",
    "print(\"----VITALS----\")\n",
    "for i in range(shap_embeddings['batch_0']['timeseries']['dynamic0'].shape[1]):\n",
    "    print('TS: ', i)\n",
    "    if len(embeddings[test_ids[8]]['dynamic_0']) <= i:\n",
    "        break\n",
    "    for j in range(len(cols['dynamic0_cols'])):\n",
    "        #print()\n",
    "        print(f\"{cols['dynamic0_cols'][j]} -> SHAP: {agg_shap[i][j]}; Actual: {embeddings[test_ids[8]]['dynamic_0'][i][j]}\")"
   ]
  },
  {
   "cell_type": "code",
   "execution_count": 151,
   "metadata": {},
   "outputs": [
    {
     "name": "stdout",
     "output_type": "stream",
     "text": [
      "----LAB TESTS----\n",
      "124\n",
      "TS:  122\n",
      "absolute_basophil_count -> SHAP: 2.687654758659619e-05; Actual: -1.0\n",
      "absolute_eosinophil_count -> SHAP: 0.00019923452459380542; Actual: -1.0\n",
      "absolute_lymphocyte_count -> SHAP: -0.0004497015932827253; Actual: -1.0\n",
      "absolute_monocyte_count -> SHAP: 0.0006996509428773834; Actual: -1.0\n",
      "absolute_neutrophil_count -> SHAP: -0.00018033172964848632; Actual: -1.0\n",
      "alanine_aminotransferase_(alt) -> SHAP: -0.00013365288640443396; Actual: -1.0\n",
      "albumin -> SHAP: -0.00027969366047386757; Actual: -1.0\n",
      "alkaline_phosphatase -> SHAP: 0.10550783272628905; Actual: 150.0\n",
      "anion_gap -> SHAP: -0.0009125149972533109; Actual: 18.0\n",
      "asparate_aminotransferase_(ast) -> SHAP: 0.00043854212421834404; Actual: -1.0\n",
      "base_excess -> SHAP: 2.0178824916783356e-05; Actual: -1.0\n",
      "basophils -> SHAP: -0.0002598092478365288; Actual: -1.0\n",
      "bicarbonate -> SHAP: 0.020090735045414476; Actual: 23.0\n",
      "bilirubin_total -> SHAP: -0.00013945284453598106; Actual: 0.7\n",
      "calcium_total -> SHAP: -0.0038732183425054245; Actual: 8.9\n",
      "calculated_total_co2 -> SHAP: 3.403169728244393e-06; Actual: -1.0\n",
      "chloride -> SHAP: 0.04375196402907022; Actual: 103.0\n",
      "creatinine -> SHAP: 1.2534933588881358e-05; Actual: 0.7\n",
      "eosinophils -> SHAP: 0.0001126777492288511; Actual: -1.0\n",
      "glucose -> SHAP: -0.00013063496891163595; Actual: -1.0\n",
      "hematocrit -> SHAP: 0.016188285468842878; Actual: 26.5\n",
      "hemoglobin -> SHAP: 0.004090368254765053; Actual: 8.3\n",
      "immature_granulocytes -> SHAP: -0.0001797011088342515; Actual: -1.0\n",
      "lactate -> SHAP: -0.0003936451270192265; Actual: -1.0\n",
      "lactate_dehydrogenase_(ld) -> SHAP: -0.0005823511150424565; Actual: -1.0\n",
      "lymphocytes -> SHAP: 1.0862640841935445e-05; Actual: -1.0\n",
      "magnesium -> SHAP: 0.0008322482023430666; Actual: 2.1\n",
      "mch -> SHAP: 0.013925631823212825; Actual: 26.9\n",
      "mchc -> SHAP: 0.01882333237676903; Actual: 31.1\n",
      "mcv -> SHAP: 0.09174547543807421; Actual: 86.0\n",
      "monocytes -> SHAP: 0.00022950032479229776; Actual: -1.0\n",
      "neutrophils -> SHAP: -0.0006963413992338019; Actual: -1.0\n",
      "pco2 -> SHAP: 0.000826560044231428; Actual: -1.0\n",
      "ph -> SHAP: 0.0002155762178688292; Actual: -1.0\n",
      "phosphate -> SHAP: 0.00012354670479908236; Actual: 5.3\n",
      "platelet_count -> SHAP: 0.0006653998310071074; Actual: -1.0\n",
      "po2 -> SHAP: -1.831894719828142e-05; Actual: -1.0\n",
      "potassium -> SHAP: -0.001024156970373724; Actual: 4.8\n",
      "pt -> SHAP: 0.012919525494908157; Actual: 33.8\n",
      "ptt -> SHAP: 0.0031627849966753274; Actual: 48.1\n",
      "rbc -> SHAP: -0.00015673351434308813; Actual: -1.0\n",
      "rdw -> SHAP: -0.010988147288912842; Actual: 16.5\n",
      "rdw-sd -> SHAP: -8.090873009791721e-06; Actual: -1.0\n",
      "red_blood_cells -> SHAP: 0.0005947319235701798; Actual: 3.07\n",
      "sodium -> SHAP: -0.01526569254201604; Actual: 139.0\n",
      "specific_gravity -> SHAP: -0.0003116100021145485; Actual: -1.0\n",
      "urea_nitrogen -> SHAP: -0.004470548160838916; Actual: 14.0\n",
      "wbc -> SHAP: 0.0001828959015028886; Actual: -1.0\n",
      "white_blood_cells -> SHAP: 0.00021905805251876131; Actual: -1.0\n",
      "TS:  123\n",
      "absolute_basophil_count -> SHAP: 0.00012235928309678457; Actual: -1.0\n",
      "absolute_eosinophil_count -> SHAP: 9.433166530925519e-05; Actual: -1.0\n",
      "absolute_lymphocyte_count -> SHAP: -0.0010029803773932144; Actual: -1.0\n",
      "absolute_monocyte_count -> SHAP: 0.001493733482220705; Actual: -1.0\n",
      "absolute_neutrophil_count -> SHAP: 0.00011816964547506359; Actual: -1.0\n",
      "alanine_aminotransferase_(alt) -> SHAP: 0.001984190051302903; Actual: 18.0\n",
      "albumin -> SHAP: -0.00043694827633089517; Actual: -1.0\n",
      "alkaline_phosphatase -> SHAP: 0.2033977684986894; Actual: 153.0\n",
      "anion_gap -> SHAP: -0.0034016511444860953; Actual: 13.0\n",
      "asparate_aminotransferase_(ast) -> SHAP: -0.030911481233715676; Actual: 25.0\n",
      "base_excess -> SHAP: -0.0002741700526485147; Actual: -1.0\n",
      "basophils -> SHAP: 0.0001524886968908845; Actual: 0.3\n",
      "bicarbonate -> SHAP: 0.04637385715068376; Actual: 25.0\n",
      "bilirubin_total -> SHAP: -0.0001621720569602303; Actual: 0.8\n",
      "calcium_total -> SHAP: -0.006373477129727689; Actual: 9.0\n",
      "calculated_total_co2 -> SHAP: 3.7190767216088716e-05; Actual: -1.0\n",
      "chloride -> SHAP: 0.08727191070647677; Actual: 103.0\n",
      "creatinine -> SHAP: -5.868795354402323e-05; Actual: 0.6\n",
      "eosinophils -> SHAP: 6.226370715012308e-05; Actual: 1.7\n",
      "glucose -> SHAP: -0.00035570982272226104; Actual: -1.0\n",
      "hematocrit -> SHAP: 0.02862305656708486; Actual: 27.1\n",
      "hemoglobin -> SHAP: 0.007567198018932686; Actual: 8.4\n",
      "immature_granulocytes -> SHAP: -0.0004855868572235522; Actual: -1.0\n",
      "lactate -> SHAP: -0.000492599502365465; Actual: -1.0\n",
      "lactate_dehydrogenase_(ld) -> SHAP: -0.0010529008217758928; Actual: -1.0\n",
      "lymphocytes -> SHAP: 0.0005031154473726929; Actual: 11.1\n",
      "magnesium -> SHAP: 0.002469305443810299; Actual: 2.1\n",
      "mch -> SHAP: 0.026836030485355877; Actual: 26.4\n",
      "mchc -> SHAP: 0.036048861516974284; Actual: 30.9\n",
      "mcv -> SHAP: 0.1761089561478002; Actual: 85.0\n",
      "monocytes -> SHAP: -0.004006938778729818; Actual: 10.4\n",
      "neutrophils -> SHAP: 0.09674890204587427; Actual: 76.6\n",
      "pco2 -> SHAP: 0.0015346249687979707; Actual: -1.0\n",
      "ph -> SHAP: 0.000255799038129112; Actual: -1.0\n",
      "phosphate -> SHAP: 0.0007059739264150267; Actual: 4.6\n",
      "platelet_count -> SHAP: 0.0011459161962648068; Actual: -1.0\n",
      "po2 -> SHAP: -9.603254733292488e-05; Actual: -1.0\n",
      "potassium -> SHAP: -0.0016043493269535247; Actual: 4.8\n",
      "pt -> SHAP: 0.022077098931731598; Actual: 30.4\n",
      "ptt -> SHAP: -0.0021081424765725387; Actual: 46.4\n",
      "rbc -> SHAP: -0.000277538926624743; Actual: -1.0\n",
      "rdw -> SHAP: -0.013186620026317541; Actual: 16.3\n",
      "rdw-sd -> SHAP: -9.154601730188006e-05; Actual: -1.0\n",
      "red_blood_cells -> SHAP: 0.0008336228089547149; Actual: 3.18\n",
      "sodium -> SHAP: 0.052233350434107706; Actual: 136.0\n",
      "specific_gravity -> SHAP: -0.000888254637686714; Actual: -1.0\n",
      "urea_nitrogen -> SHAP: -0.006882346928478; Actual: 14.0\n",
      "wbc -> SHAP: 9.543570433834248e-05; Actual: -1.0\n",
      "white_blood_cells -> SHAP: -0.0042671207400530875; Actual: 18.3\n"
     ]
    }
   ],
   "source": [
    "print(\"----LAB TESTS----\")\n",
    "print(len(embeddings[test_ids[15]]['dynamic_1']))\n",
    "for i in range(shap_embeddings['batch_0']['timeseries']['dynamic1'].shape[1]):\n",
    "    if i < 122:\n",
    "        continue\n",
    "    if len(embeddings[test_ids[15]]['dynamic_1']) <= i:\n",
    "        break\n",
    "    print('TS: ', i)\n",
    "    for j in range(len(cols['dynamic1_cols'])):\n",
    "        print(f\"{cols['dynamic1_cols'][j]} -> SHAP: {agg_shap_test[i][j]}; Actual: {embeddings[test_ids[15]]['dynamic_1'][i][j]}\")"
   ]
  },
  {
   "cell_type": "markdown",
   "metadata": {},
   "source": [
    "### Compare embedding keys"
   ]
  },
  {
   "cell_type": "code",
   "execution_count": null,
   "metadata": {},
   "outputs": [],
   "source": [
    "print(len(embeddings.keys()), len(emb_old.keys()))\n",
    "### Get keys in embeddings but not in embeddings_old\n",
    "keys = set(embeddings.keys()) - set(emb_old.keys())\n",
    "print(len(keys))\n",
    "### Get keys in embeddings_old but not in embeddings\n",
    "keys = set(emb_old.keys()) - set(embeddings.keys())\n",
    "print(len(keys))"
   ]
  },
  {
   "cell_type": "code",
   "execution_count": null,
   "metadata": {},
   "outputs": [],
   "source": [
    "risk_dict = load_pickle(\"..\\outputs\\evaluation\\ext_stay_7_concat_static_timeseries\\pf_ext_stay_7_concat_static_timeseries.pkl\")"
   ]
  },
  {
   "cell_type": "code",
   "execution_count": null,
   "metadata": {},
   "outputs": [],
   "source": [
    "fair_dict = load_pickle(\"../outputs/fairness/ext_stay_7_None_timeseries/pf_ext_stay_7_None_timeseries.pkl\")\n",
    "fair_dict_cst = load_pickle(\"../outputs/fairness/ext_stay_7_concat_static_timeseries/pf_ext_stay_7_concat_static_timeseries.pkl\")\n",
    "fair_dict_cstn = load_pickle(\"../outputs/fairness/ext_stay_7_concat_static_timeseries_notes/pf_ext_stay_7_concat_static_timeseries_notes.pkl\")"
   ]
  },
  {
   "cell_type": "code",
   "execution_count": null,
   "metadata": {},
   "outputs": [],
   "source": [
    "fair_dict"
   ]
  },
  {
   "cell_type": "code",
   "execution_count": null,
   "metadata": {},
   "outputs": [],
   "source": [
    "### Select the keys that start with fair_\n",
    "fair_keys = [key for key in fair_dict.keys() if key.startswith(\"fair_\")]\n",
    "### Select items from the dictionary that start with fair_\n",
    "fair_dict_f = {key: fair_dict[key] for key in fair_keys}\n",
    "fair_dict_cstf = {key: fair_dict_cst[key] for key in fair_keys}\n",
    "fair_dict_cstnf = {key: fair_dict_cstn[key] for key in fair_keys}\n",
    "### Display values within the keys\n",
    "fair_df = pd.concat([pd.DataFrame(fair_dict_f), pd.DataFrame(fair_dict_cstf), pd.DataFrame(fair_dict_cstnf)], axis=1)"
   ]
  },
  {
   "cell_type": "code",
   "execution_count": null,
   "metadata": {},
   "outputs": [],
   "source": [
    "fair_df.T"
   ]
  },
  {
   "cell_type": "code",
   "execution_count": null,
   "metadata": {},
   "outputs": [],
   "source": [
    "len(risk_dict['risk_quantile']), len(risk_dict['y_prob']), len(risk_dict['test_ids'])"
   ]
  },
  {
   "cell_type": "code",
   "execution_count": null,
   "metadata": {},
   "outputs": [],
   "source": [
    "risk_dict['yd_idx']"
   ]
  },
  {
   "cell_type": "code",
   "execution_count": null,
   "metadata": {},
   "outputs": [],
   "source": [
    "embeddings"
   ]
  },
  {
   "cell_type": "code",
   "execution_count": null,
   "metadata": {},
   "outputs": [],
   "source": [
    "cols"
   ]
  },
  {
   "cell_type": "code",
   "execution_count": null,
   "metadata": {},
   "outputs": [],
   "source": [
    "embeddings[10000032]['notes'][0]"
   ]
  },
  {
   "cell_type": "code",
   "execution_count": null,
   "metadata": {},
   "outputs": [],
   "source": [
    "for attr_i in range(len(cols['notes_cols'])):\n",
    "    for i in range(len(embeddings[16486866]['notes'])):\n",
    "        print(f\"Note:{embeddings[16486866]['notes'][i][0]}, Score:{embeddings[16486866]['notes'][i][1]}\")"
   ]
  },
  {
   "cell_type": "code",
   "execution_count": null,
   "metadata": {},
   "outputs": [],
   "source": [
    "for attr_i in range(len(cols['dynamic1_cols'])):\n",
    "    for i in range(len(embeddings[16486866]['dynamic_1'])):\n",
    "        if 'creatinine' in cols['dynamic1_cols'][attr_i]:\n",
    "            print(f\"Col:{cols['dynamic1_cols'][attr_i]}={embeddings[16486866]['dynamic_1'][i][attr_i]}\")"
   ]
  },
  {
   "cell_type": "code",
   "execution_count": null,
   "metadata": {},
   "outputs": [],
   "source": [
    "for attr_i in range(len(cols['dynamic0_cols'])):\n",
    "    for i in range(len(embeddings[16486866]['dynamic_0'])):\n",
    "        print(f\"Col:{cols['dynamic0_cols'][attr_i]}={embeddings[16486866]['dynamic_0'][i][attr_i]}\")"
   ]
  },
  {
   "cell_type": "code",
   "execution_count": null,
   "metadata": {},
   "outputs": [],
   "source": [
    "for attr_i in range(len(cols['static_cols'])):\n",
    "    print(f\"Col:{cols['static_cols'][attr_i]}={embeddings[16486866]['static'][0][attr_i]}\")\n"
   ]
  },
  {
   "cell_type": "markdown",
   "metadata": {},
   "source": [
    "#### Recode some of the embeddings"
   ]
  },
  {
   "cell_type": "code",
   "execution_count": null,
   "metadata": {},
   "outputs": [],
   "source": [
    "for id_val in embeddings.keys():\n",
    "    embeddings[id_val]['static'] = emb_new[id_val]['static']\n",
    "    embeddings[id_val]['dynamic_0'] = emb_new[id_val]['dynamic_0']\n",
    "    embeddings[id_val]['dynamic_1'] = emb_new[id_val]['dynamic_1']\n",
    "    embeddings[id_val]['in_hosp_death'] = emb_new[id_val]['in_hosp_death']\n",
    "    embeddings[id_val]['ext_stay_7'] = emb_new[id_val]['ext_stay_7']\n",
    "    embeddings[id_val]['icu_admission'] = emb_new[id_val]['icu_admission']\n",
    "    embeddings[id_val]['non_home_discharge'] = emb_new[id_val]['non_home_discharge']"
   ]
  },
  {
   "cell_type": "code",
   "execution_count": null,
   "metadata": {},
   "outputs": [],
   "source": [
    "with open(os.path.join(\"../outputs/processed_data\", \"mmfair_feat.pkl\"), \"wb\") as f:\n",
    "        pickle.dump(embeddings, f)"
   ]
  },
  {
   "cell_type": "code",
   "execution_count": null,
   "metadata": {},
   "outputs": [],
   "source": [
    "extr_list = []\n",
    "for item in embeddings[id_val]['notes']:\n",
    "    extr_list.append(item[1])\n",
    "print(extr_list)"
   ]
  },
  {
   "cell_type": "code",
   "execution_count": null,
   "metadata": {},
   "outputs": [],
   "source": [
    "embeddings[10000032]['static'].shape[1]"
   ]
  },
  {
   "cell_type": "code",
   "execution_count": null,
   "metadata": {},
   "outputs": [],
   "source": [
    "embeddings[list(embeddings.keys())[-1]]"
   ]
  },
  {
   "cell_type": "code",
   "execution_count": null,
   "metadata": {},
   "outputs": [],
   "source": [
    "list(embeddings.keys())"
   ]
  },
  {
   "cell_type": "code",
   "execution_count": null,
   "metadata": {},
   "outputs": [],
   "source": [
    "embeddings[list(embeddings.keys())[0]].keys()"
   ]
  },
  {
   "cell_type": "code",
   "execution_count": null,
   "metadata": {},
   "outputs": [],
   "source": [
    "[key for key in embeddings[list(embeddings.keys())[0]].keys() if \"dynamic\" in key]"
   ]
  },
  {
   "cell_type": "markdown",
   "metadata": {},
   "source": [
    "#### Test training IDs"
   ]
  },
  {
   "cell_type": "code",
   "execution_count": null,
   "metadata": {},
   "outputs": [],
   "source": [
    "train_hosp_death = pd.read_csv('../outputs/prep_data/training_ids_in_hosp_death.csv')\n",
    "val_hosp_death = pd.read_csv('../outputs/prep_data/validation_ids_in_hosp_death.csv')\n",
    "test_hosp_death = pd.read_csv('../outputs/prep_data/testing_ids_in_hosp_death.csv')"
   ]
  },
  {
   "cell_type": "code",
   "execution_count": null,
   "metadata": {},
   "outputs": [],
   "source": [
    "train_icu = pd.read_csv('../outputs/prep_data/training_ids_icu_admission.csv')"
   ]
  },
  {
   "cell_type": "code",
   "execution_count": null,
   "metadata": {},
   "outputs": [],
   "source": [
    "overlap = set(train_icu['subject_id']).intersection(set(train_hosp_death['subject_id']))\n",
    "print(len(overlap))"
   ]
  },
  {
   "cell_type": "code",
   "execution_count": null,
   "metadata": {},
   "outputs": [],
   "source": [
    "emb_ids = list(embeddings.keys())\n",
    "overlap = set(emb_ids).intersection(set(train_hosp_death['subject_id']))\n",
    "overlapv = set(emb_ids).intersection(set(val_hosp_death['subject_id']))\n",
    "overlapt = set(emb_ids).intersection(set(test_hosp_death['subject_id']))\n",
    "print(len(overlap), len(overlapv), len(overlapt), len(train_hosp_death), len(embeddings.keys()))"
   ]
  }
 ],
 "metadata": {
  "kernelspec": {
   "display_name": ".venv",
   "language": "python",
   "name": "python3"
  },
  "language_info": {
   "codemirror_mode": {
    "name": "ipython",
    "version": 3
   },
   "file_extension": ".py",
   "mimetype": "text/x-python",
   "name": "python",
   "nbconvert_exporter": "python",
   "pygments_lexer": "ipython3",
   "version": "3.10.11"
  }
 },
 "nbformat": 4,
 "nbformat_minor": 2
}
