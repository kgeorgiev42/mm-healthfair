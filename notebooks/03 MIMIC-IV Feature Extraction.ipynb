{
 "cells": [
  {
   "cell_type": "markdown",
   "metadata": {},
   "source": [
    "#### Parse additional historical features from the EHR (medications, outpatient visits) and time-series data (blood tests, vital signs)"
   ]
  },
  {
   "cell_type": "code",
   "execution_count": 1,
   "metadata": {},
   "outputs": [],
   "source": [
    "import pandas as pd\n",
    "import polars as pl\n",
    "import seaborn as sns\n",
    "import matplotlib.pyplot as plt\n",
    "import matplotlib.ticker as mtick\n",
    "from matplotlib.patches import Patch\n",
    "from matplotlib.dates import DateFormatter\n",
    "from datetime import timedelta, datetime\n",
    "from tqdm import tqdm\n",
    "import numpy as np\n",
    "from scipy import stats, special\n",
    "from tableone import TableOne\n",
    "\n",
    "import os\n",
    "import json\n",
    "import re\n",
    "import pprint\n",
    "import missingno as msno\n",
    "from statannotations.Annotator import Annotator\n",
    "import warnings\n",
    "\n",
    "pd.set_option('display.max_rows', None)"
   ]
  },
  {
   "cell_type": "markdown",
   "metadata": {},
   "source": [
    "#### Load linked demographics data and helper-functions"
   ]
  },
  {
   "cell_type": "code",
   "execution_count": null,
   "metadata": {},
   "outputs": [],
   "source": [
    "demo_data = pd.read_csv('../outputs/linked_data/linked_demographics.csv')\n",
    "print(demo_data.shape, demo_data.subject_id.nunique())"
   ]
  },
  {
   "cell_type": "code",
   "execution_count": 2,
   "metadata": {},
   "outputs": [],
   "source": [
    "core_path = '../../data/MIMIC-IV/mimiciv/3.1'\n",
    "ed_path = '../../data/MIMIC-IV/mimic-iv-ed/3.1'\n",
    "demo_path = '../outputs/linked_data/linked_demographics.csv'\n",
    "ndc_path = '../../data/MIMIC-IV/config/NDC_product_table.csv'"
   ]
  },
  {
   "cell_type": "code",
   "execution_count": null,
   "metadata": {},
   "outputs": [],
   "source": [
    "meds_data = read_prescriptions_table(core_path, demo_path)"
   ]
  },
  {
   "cell_type": "code",
   "execution_count": null,
   "metadata": {},
   "outputs": [],
   "source": [
    "meds_feat = prepare_prescription_features(meds_data, demo_data)"
   ]
  },
  {
   "cell_type": "code",
   "execution_count": null,
   "metadata": {},
   "outputs": [],
   "source": [
    "meds_feat.isnull().sum()"
   ]
  },
  {
   "cell_type": "code",
   "execution_count": null,
   "metadata": {},
   "outputs": [],
   "source": [
    "meds_feat.total_n_presc.describe()"
   ]
  },
  {
   "cell_type": "code",
   "execution_count": null,
   "metadata": {},
   "outputs": [],
   "source": [
    "for col in meds_feat.columns.tolist():\n",
    "    if 'dsl' in col:\n",
    "        print(meds_feat[col].value_counts().head(2))"
   ]
  },
  {
   "cell_type": "code",
   "execution_count": 52,
   "metadata": {},
   "outputs": [],
   "source": [
    "meds_feat.to_csv('../outputs/linked_data/linked_meds_demographics.csv', index=False)"
   ]
  },
  {
   "cell_type": "code",
   "execution_count": 16,
   "metadata": {},
   "outputs": [],
   "source": [
    "meds_feat = pd.read_csv('../outputs/linked_data/linked_meds_demographics.csv')"
   ]
  },
  {
   "cell_type": "code",
   "execution_count": 6,
   "metadata": {},
   "outputs": [],
   "source": [
    "poe_test = dataframe_from_csv(os.path.join(core_path, 'hosp/poe.csv.gz'))"
   ]
  },
  {
   "cell_type": "markdown",
   "metadata": {},
   "source": [
    "#### Specialty-related orders"
   ]
  },
  {
   "cell_type": "code",
   "execution_count": null,
   "metadata": {},
   "outputs": [],
   "source": [
    "meds_feat = prepare_admin_features(poe_test, meds_feat)"
   ]
  },
  {
   "cell_type": "code",
   "execution_count": 25,
   "metadata": {},
   "outputs": [],
   "source": [
    "meds_feat.to_csv('../outputs/linked_data/linked_meds_proc_demographics.csv', index=False)"
   ]
  },
  {
   "cell_type": "code",
   "execution_count": null,
   "metadata": {},
   "outputs": [],
   "source": [
    "meds_feat.isnull().sum()"
   ]
  },
  {
   "cell_type": "code",
   "execution_count": null,
   "metadata": {},
   "outputs": [],
   "source": [
    "meds_feat.shape"
   ]
  },
  {
   "cell_type": "code",
   "execution_count": null,
   "metadata": {},
   "outputs": [],
   "source": [
    "for col in meds_feat.columns.tolist():\n",
    "    if 'admin' in col:\n",
    "        print(meds_feat[col].value_counts().head())\n",
    "        print(meds_feat[col].describe())"
   ]
  },
  {
   "cell_type": "markdown",
   "metadata": {},
   "source": [
    "#### Get vital signs and lab tests"
   ]
  },
  {
   "cell_type": "code",
   "execution_count": null,
   "metadata": {},
   "outputs": [],
   "source": [
    "measure_data = prepare_vitals(measures_test, vitals_test, meds_feat, '../outputs/linked_data/measures_ts.csv')"
   ]
  },
  {
   "cell_type": "code",
   "execution_count": null,
   "metadata": {},
   "outputs": [],
   "source": [
    "print(measure_data.shape, measure_data.subject_id.nunique())\n",
    "print(measure_data[measure_data.label.str.contains('blood pressure')].shape,\n",
    "    measure_data[measure_data.label.str.contains('blood pressure')].subject_id.nunique())\n",
    "print(measure_data[measure_data.label.str.contains('BMI')].shape,\n",
    "    measure_data[measure_data.label.str.contains('BMI')].subject_id.nunique())\n",
    "print(measure_data[measure_data.label.str.contains('Temperature')].shape,\n",
    "    measure_data[measure_data.label.str.contains('Temperature')].subject_id.nunique())\n",
    "print(measure_data[measure_data.label.str.contains('Respiratory rate')].shape,\n",
    "    measure_data[measure_data.label.str.contains('Respiratory rate')].subject_id.nunique())\n",
    "print(measure_data[measure_data.label.str.contains('Oxygen saturation')].shape,\n",
    "    measure_data[measure_data.label.str.contains('Oxygen saturation')].subject_id.nunique())"
   ]
  },
  {
   "cell_type": "code",
   "execution_count": null,
   "metadata": {},
   "outputs": [],
   "source": [
    "measure_data.head()"
   ]
  },
  {
   "cell_type": "code",
   "execution_count": 40,
   "metadata": {},
   "outputs": [],
   "source": [
    "measures_test = dataframe_from_csv(os.path.join(core_path, 'hosp/omr.csv.gz'))"
   ]
  },
  {
   "cell_type": "code",
   "execution_count": null,
   "metadata": {},
   "outputs": [],
   "source": [
    "measures_test.isnull().sum()"
   ]
  },
  {
   "cell_type": "code",
   "execution_count": null,
   "metadata": {},
   "outputs": [],
   "source": [
    "measures_test.head()"
   ]
  },
  {
   "cell_type": "code",
   "execution_count": 36,
   "metadata": {},
   "outputs": [],
   "source": [
    "vitals_test = dataframe_from_csv(os.path.join(ed_path, 'ed/vitalsign.csv.gz'))"
   ]
  },
  {
   "cell_type": "code",
   "execution_count": null,
   "metadata": {},
   "outputs": [],
   "source": [
    "vitals_test.isnull().sum()"
   ]
  },
  {
   "cell_type": "code",
   "execution_count": null,
   "metadata": {},
   "outputs": [],
   "source": [
    "vitals_test.result_name.value_counts()"
   ]
  },
  {
   "cell_type": "markdown",
   "metadata": {},
   "source": [
    "##### Blood tests"
   ]
  },
  {
   "cell_type": "code",
   "execution_count": 4,
   "metadata": {},
   "outputs": [],
   "source": [
    "demo_data = pd.read_csv('../outputs/linked_data/linked_demographics.csv')"
   ]
  },
  {
   "cell_type": "code",
   "execution_count": 18,
   "metadata": {},
   "outputs": [],
   "source": [
    "#### Get most common lab tests as reference data\n",
    "labs_lkup = pd.read_csv(os.path.join(core_path, 'hosp/labevents.csv'),\n",
    "                        chunksize=10000000, low_memory=False)\n",
    "labs_names = pd.read_csv(os.path.join(core_path, 'hosp/d_labitems.csv.gz'), compression='gzip')\n",
    "labs_names = labs_names[['itemid', 'label']]\n",
    "labs_lkup = pd.merge(labs_lkup.get_chunk(10000000), labs_names, on='itemid', how='left')\n",
    "labs_lkup = labs_lkup.dropna(subset=['itemid', 'label', 'valuenum', 'valueuom'])\n",
    "labs_lkup['label'] = labs_lkup['label'].str.lower().str.strip().str.replace(' ', '_').str.replace(',', '').str.replace('\"', '')\n",
    "labs_lkup = labs_lkup[['subject_id', 'itemid', 'label']].groupby(['itemid', 'label']).size().reset_index(name='n_tests')\n",
    "labs_lkup = labs_lkup.sort_values(['n_tests'], ascending=False).head(50)\n",
    "labs_lkup.to_csv('../outputs/linked_data/labs_lkup.csv', index=False)"
   ]
  },
  {
   "cell_type": "code",
   "execution_count": null,
   "metadata": {},
   "outputs": [],
   "source": [
    "labs_lkup = pd.read_csv(os.path.join(core_path, 'hosp/labevents.csv'),\n",
    "                        chunksize=10000, low_memory=False)\n",
    "labs_lkup.get_chunk(10).charttime"
   ]
  },
  {
   "cell_type": "code",
   "execution_count": 19,
   "metadata": {},
   "outputs": [],
   "source": [
    "### Export lab test ids as txt\n",
    "lab_items_new = labs_lkup.itemid.tolist()\n",
    "with open('../outputs/linked_data/lab_items.txt', 'w') as f:\n",
    "    for item in lab_items_new:\n",
    "        f.write(\"%s\\n\" % item)"
   ]
  },
  {
   "cell_type": "code",
   "execution_count": null,
   "metadata": {},
   "outputs": [],
   "source": [
    "labs_data = pl.scan_csv(os.path.join(core_path, 'hosp/labevents.csv'), try_parse_dates=True)\n",
    "d_items = (pl.read_csv(os.path.join(core_path, \"hosp/d_labitems.csv.gz\")).lazy().select([\"itemid\", \"label\"]))\n",
    "# merge labitem id's with dict\n",
    "labs_data = labs_data.join(d_items, how='left', on=\"itemid\")\n",
    "# select relevant columns\n",
    "labs_data = (labs_data.select([\"subject_id\", \"charttime\", \"itemid\", \"label\", \"value\", \"valueuom\"])\n",
    "        .with_columns(charttime=pl.col(\"charttime\").cast(pl.Datetime), linksto=pl.lit(\"labevents\")))\n",
    "# get eligible lab tests prior to current episode\n",
    "labs_data = labs_data.join(pl.from_pandas(demo_data[['subject_id', 'edregtime']]).lazy().\n",
    "                           with_columns(edregtime=pl.col(\"edregtime\").str.to_datetime(format=\"%Y-%m-%d %H:%M:%S\")), \n",
    "                           how='left', on=\"subject_id\")\n",
    "labs_data = labs_data.filter(pl.col(\"charttime\") <= pl.col(\"edregtime\")).drop([\"edregtime\"])\n",
    "# get most common items\n",
    "labs_data = labs_data.filter(pl.col(\"itemid\").is_in(set(lab_items_new)))\n",
    "labs_data = labs_data.with_columns(\n",
    "    pl.col(\"label\").str.to_lowercase().str.replace(\" \", \"_\").str.replace(\",\", \"\").str.replace('\"', \"\").str.replace(\" \", \"_\"),\n",
    "    pl.col(\"charttime\").str.replace(\"T\", \" \").str.strip_chars()\n",
    ")\n",
    "lab_events = labs_data.with_columns(\n",
    "        value=pl.when(pl.col(\"value\") == \".\").then(None).otherwise(pl.col(\"value\"))\n",
    ")\n",
    "lab_events = lab_events.with_columns(\n",
    "    value=pl.when(pl.col(\"value\").str.contains(\"_|<|ERROR\"))\n",
    "    .then(None)\n",
    "    .otherwise(pl.col(\"value\"))\n",
    "    .cast(pl.Float64, strict=False)  # Attempt to cast to Float64, set invalid values to None\n",
    ")\n",
    "labs_data = labs_data.drop_nulls()\n",
    "\n",
    "# Remove outliers using 2 std from mean\n",
    "lab_events = lab_events.with_columns(mean=pl.col(\"value\").mean().over(pl.count(\"label\")))\n",
    "lab_events = lab_events.with_columns(std=pl.col(\"value\").std().over(pl.count(\"label\")))\n",
    "lab_events = lab_events.filter(\n",
    "    (pl.col(\"value\") < pl.col(\"mean\") + pl.col(\"std\") * 2)\n",
    "    & (pl.col(\"value\") > pl.col(\"mean\") - pl.col(\"std\") * 2)\n",
    ").drop([\"mean\", \"std\"])\n",
    "\n",
    "lab_events = lab_events.collect()\n",
    "lab_events.write_csv(include_header=True, file='../outputs/linked_data/labs_ts.csv')"
   ]
  },
  {
   "cell_type": "code",
   "execution_count": null,
   "metadata": {},
   "outputs": [],
   "source": [
    "labs_test = pd.read_csv('../outputs/linked_data/labs_ts.csv', chunksize=10)\n",
    "labs_test.get_chunk(10).head()"
   ]
  },
  {
   "cell_type": "code",
   "execution_count": null,
   "metadata": {},
   "outputs": [],
   "source": [
    "lab_events.head(10)"
   ]
  },
  {
   "cell_type": "code",
   "execution_count": null,
   "metadata": {},
   "outputs": [],
   "source": [
    "print(labs_data.columns)"
   ]
  },
  {
   "cell_type": "code",
   "execution_count": null,
   "metadata": {},
   "outputs": [],
   "source": [
    "labs_data.limit(10000).collect().head(10)"
   ]
  },
  {
   "cell_type": "markdown",
   "metadata": {},
   "source": []
  }
 ],
 "metadata": {
  "kernelspec": {
   "display_name": ".venv",
   "language": "python",
   "name": "python3"
  },
  "language_info": {
   "codemirror_mode": {
    "name": "ipython",
    "version": 3
   },
   "file_extension": ".py",
   "mimetype": "text/x-python",
   "name": "python",
   "nbconvert_exporter": "python",
   "pygments_lexer": "ipython3",
   "version": "3.10.11"
  }
 },
 "nbformat": 4,
 "nbformat_minor": 2
}
